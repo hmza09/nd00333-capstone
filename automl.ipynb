{
  "cells": [
    {
      "cell_type": "markdown",
      "source": [
        "# Automated ML\n",
        "\n",
        "TODO: Import Dependencies. In the cell below, import all the dependencies that you will need to complete the project."
      ],
      "metadata": {}
    },
    {
      "cell_type": "code",
      "source": [
        "import logging\n",
        "import os\n",
        "import csv\n",
        "\n",
        "from matplotlib import pyplot as plt\n",
        "import numpy as np\n",
        "import pandas as pd\n",
        "from sklearn import datasets\n",
        "import pkg_resources\n",
        "\n",
        "import azureml.core\n",
        "from azureml.core.experiment import Experiment\n",
        "from azureml.core.workspace import Workspace\n",
        "from azureml.train.automl import AutoMLConfig\n",
        "from azureml.core.dataset import Dataset\n",
        "\n",
        "from azureml.pipeline.steps import AutoMLStep\n",
        "\n",
        "# Check core SDK version number\n",
        "print(\"SDK version:\", azureml.core.VERSION)"
      ],
      "outputs": [
        {
          "output_type": "stream",
          "name": "stdout",
          "text": "SDK version: 1.38.0\n"
        }
      ],
      "execution_count": 1,
      "metadata": {
        "gather": {
          "logged": 1647085743240
        },
        "jupyter": {
          "outputs_hidden": false,
          "source_hidden": false
        },
        "nteract": {
          "transient": {
            "deleting": false
          }
        }
      }
    },
    {
      "cell_type": "markdown",
      "source": [
        "## Dataset\n",
        "\n",
        "### Overview\n",
        "TODO: In this markdown cell, give an overview of the dataset you are using. Also mention the task you will be performing.\n",
        "\n",
        "\n",
        "TODO: Get data. In the cell below, write code to access the data you will be using in this project. Remember that the dataset needs to be external."
      ],
      "metadata": {}
    },
    {
      "cell_type": "code",
      "source": [
        "ws = Workspace.from_config()\n",
        "print(ws.name, ws.resource_group, ws.location, ws.subscription_id, sep = '\\n')"
      ],
      "outputs": [
        {
          "output_type": "stream",
          "name": "stdout",
          "text": "quick-starts-ws-188689\naml-quickstarts-188689\nsouthcentralus\ncdbe0b43-92a0-4715-838a-f2648cc7ad21\n"
        }
      ],
      "execution_count": 2,
      "metadata": {
        "gather": {
          "logged": 1647085743783
        },
        "jupyter": {
          "outputs_hidden": false,
          "source_hidden": false
        },
        "nteract": {
          "transient": {
            "deleting": false
          }
        }
      }
    },
    {
      "cell_type": "code",
      "source": [
        "# choose a name for experiment\n",
        "experiment_name = 'heart-automl'\n",
        "project_folder = './pipeline-project'\n",
        "\n",
        "experiment = Experiment(ws, experiment_name)\n",
        "experiment"
      ],
      "outputs": [
        {
          "output_type": "execute_result",
          "execution_count": 3,
          "data": {
            "text/html": "<table style=\"width:100%\"><tr><th>Name</th><th>Workspace</th><th>Report Page</th><th>Docs Page</th></tr><tr><td>heart-automl</td><td>quick-starts-ws-188689</td><td><a href=\"https://ml.azure.com/experiments/id/afb44f86-aed8-4ffb-a596-3e1cddd7faa0?wsid=/subscriptions/cdbe0b43-92a0-4715-838a-f2648cc7ad21/resourcegroups/aml-quickstarts-188689/workspaces/quick-starts-ws-188689&amp;tid=660b3398-b80e-49d2-bc5b-ac1dc93b5254\" target=\"_blank\" rel=\"noopener\">Link to Azure Machine Learning studio</a></td><td><a href=\"https://docs.microsoft.com/en-us/python/api/azureml-core/azureml.core.experiment.Experiment?view=azure-ml-py\" target=\"_blank\" rel=\"noopener\">Link to Documentation</a></td></tr></table>",
            "text/plain": "Experiment(Name: heart-automl,\nWorkspace: quick-starts-ws-188689)"
          },
          "metadata": {}
        }
      ],
      "execution_count": 3,
      "metadata": {
        "gather": {
          "logged": 1647085743982
        },
        "jupyter": {
          "outputs_hidden": false,
          "source_hidden": false
        },
        "nteract": {
          "transient": {
            "deleting": false
          }
        }
      }
    },
    {
      "cell_type": "markdown",
      "source": [
        "## Create or Attach an AmlCompute cluster"
      ],
      "metadata": {
        "nteract": {
          "transient": {
            "deleting": false
          }
        }
      }
    },
    {
      "cell_type": "code",
      "source": [
        "from azureml.core.compute import AmlCompute\n",
        "from azureml.core.compute import ComputeTarget\n",
        "from azureml.core.compute_target import ComputeTargetException\n",
        "\n",
        "# NOTE: update the cluster name to match the existing cluster\n",
        "# Choose a name for your CPU cluster\n",
        "amlcompute_cluster_name = \"automl-compute\"\n",
        "\n",
        "# Verify that cluster does not exist already\n",
        "try:\n",
        "    compute_target = ComputeTarget(workspace=ws, name=amlcompute_cluster_name)\n",
        "    print('Found existing cluster, use it.')\n",
        "except ComputeTargetException:\n",
        "    compute_config = AmlCompute.provisioning_configuration(vm_size='STANDARD_D2_V2',# for GPU, use \"STANDARD_NC6\"\n",
        "                                                           #vm_priority = 'lowpriority', # optional\n",
        "                                                           max_nodes=4)\n",
        "    compute_target = ComputeTarget.create(ws, amlcompute_cluster_name, compute_config)\n",
        "\n",
        "compute_target.wait_for_completion(show_output=True, min_node_count = 1, timeout_in_minutes = 1)\n",
        "# For a more detailed view of current AmlCompute status, use get_status()."
      ],
      "outputs": [
        {
          "output_type": "stream",
          "name": "stdout",
          "text": "Found existing cluster, use it.\nSucceeded............\nAmlCompute wait for completion finished\n\nWait timeout has been reached\nCurrent provisioning state of AmlCompute is \"Succeeded\" and current node count is \"0\"\n"
        }
      ],
      "execution_count": 4,
      "metadata": {
        "gather": {
          "logged": 1647085805422
        },
        "jupyter": {
          "outputs_hidden": false,
          "source_hidden": false
        },
        "nteract": {
          "transient": {
            "deleting": false
          }
        }
      }
    },
    {
      "cell_type": "code",
      "source": [
        "data = pd.read_csv('./heart_failure_clinical_records_dataset.csv')\n",
        "\n",
        "found = False\n",
        "key = \"heart-failure-prediction\"\n",
        "description_text = \"Prediction of survival of patients with heart failure\"\n",
        "\n",
        "if key in ws.datasets.keys(): \n",
        "        found = True\n",
        "        dataset = ws.datasets[key] \n",
        "\n",
        "if not found:\n",
        "        # Create AML Dataset and register it into Workspace\n",
        "        my_dataset = 'https://github.com/hmza09/nd00333-capstone/blob/master/starter_file/heart_failure_clinical_records_dataset.csv'\n",
        "        dataset = Dataset.Tabular.from_delimited_files(my_dataset)        \n",
        "        # Register Dataset in Workspace\n",
        "        dataset = dataset.register(workspace=ws,\n",
        "                                   name=key,\n",
        "                                   description=description_text)\n",
        "                                \n",
        "# Preview of the first five rows\n",
        "print(data.head())\n",
        "\n",
        "# Explore data\n",
        "print(data.describe())\n",
        "\n",
        "df = dataset.to_pandas_dataframe()\n",
        "df.describe()\n",
        "\n",
        "# Data columns\n",
        "df.columns = ['age', 'anaemia', 'creatinine_phosphokinase', 'diabetes', 'ejection_fraction', 'high_blood_pressure', 'platelets', 'serum_creatinine', 'serum_sodium', 'sex', 'smoking', 'time', 'DEATH_EVENT']\n",
        "x = df[['age', 'anaemia', 'creatinine_phosphokinase', 'diabetes', 'ejection_fraction', 'high_blood_pressure', 'platelets', 'serum_creatinine', 'serum_sodium', 'sex', 'smoking', 'time']]\n",
        "y = df[['DEATH_EVENT']]\n"
      ],
      "outputs": [
        {
          "output_type": "stream",
          "name": "stdout",
          "text": "    age  anaemia  creatinine_phosphokinase  diabetes  ejection_fraction  \\\n0  75.0        0                       582         0                 20   \n1  55.0        0                      7861         0                 38   \n2  65.0        0                       146         0                 20   \n3  50.0        1                       111         0                 20   \n4  65.0        1                       160         1                 20   \n\n   high_blood_pressure  platelets  serum_creatinine  serum_sodium  sex  \\\n0                    1  265000.00               1.9           130    1   \n1                    0  263358.03               1.1           136    1   \n2                    0  162000.00               1.3           129    1   \n3                    0  210000.00               1.9           137    1   \n4                    0  327000.00               2.7           116    0   \n\n   smoking  time  DEATH_EVENT  \n0        0     4            1  \n1        0     6            1  \n2        1     7            1  \n3        0     7            1  \n4        0     8            1  \n              age     anaemia  creatinine_phosphokinase    diabetes  \\\ncount  299.000000  299.000000                299.000000  299.000000   \nmean    60.833893    0.431438                581.839465    0.418060   \nstd     11.894809    0.496107                970.287881    0.494067   \nmin     40.000000    0.000000                 23.000000    0.000000   \n25%     51.000000    0.000000                116.500000    0.000000   \n50%     60.000000    0.000000                250.000000    0.000000   \n75%     70.000000    1.000000                582.000000    1.000000   \nmax     95.000000    1.000000               7861.000000    1.000000   \n\n       ejection_fraction  high_blood_pressure      platelets  \\\ncount         299.000000           299.000000     299.000000   \nmean           38.083612             0.351171  263358.029264   \nstd            11.834841             0.478136   97804.236869   \nmin            14.000000             0.000000   25100.000000   \n25%            30.000000             0.000000  212500.000000   \n50%            38.000000             0.000000  262000.000000   \n75%            45.000000             1.000000  303500.000000   \nmax            80.000000             1.000000  850000.000000   \n\n       serum_creatinine  serum_sodium         sex    smoking        time  \\\ncount         299.00000    299.000000  299.000000  299.00000  299.000000   \nmean            1.39388    136.625418    0.648829    0.32107  130.260870   \nstd             1.03451      4.412477    0.478136    0.46767   77.614208   \nmin             0.50000    113.000000    0.000000    0.00000    4.000000   \n25%             0.90000    134.000000    0.000000    0.00000   73.000000   \n50%             1.10000    137.000000    1.000000    0.00000  115.000000   \n75%             1.40000    140.000000    1.000000    1.00000  203.000000   \nmax             9.40000    148.000000    1.000000    1.00000  285.000000   \n\n       DEATH_EVENT  \ncount    299.00000  \nmean       0.32107  \nstd        0.46767  \nmin        0.00000  \n25%        0.00000  \n50%        0.00000  \n75%        1.00000  \nmax        1.00000  \n"
        }
      ],
      "execution_count": 5,
      "metadata": {
        "gather": {
          "logged": 1647085808552
        },
        "jupyter": {
          "outputs_hidden": false,
          "source_hidden": false
        },
        "nteract": {
          "transient": {
            "deleting": false
          }
        }
      }
    },
    {
      "cell_type": "markdown",
      "source": [
        "## AutoML Configuration\n",
        "\n",
        "TODO: Explain why you chose the automl settings and cofiguration you used below."
      ],
      "metadata": {}
    },
    {
      "cell_type": "code",
      "source": [
        "# TODO: Put your automl settings here\n",
        "automl_settings = {\"n_cross_validations\": 2,\n",
        "                    \"primary_metric\": 'accuracy',\n",
        "                    \"enable_early_stopping\": True,\n",
        "                    \"max_concurrent_iterations\": 4,\n",
        "                    \"experiment_timeout_minutes\": 20,\n",
        "                    \"verbosity\": logging.INFO\n",
        "                    }\n",
        "\n",
        "# TODO: Put your automl config here\n",
        "automl_config = AutoMLConfig(compute_target = compute_target,\n",
        "                            task='classification',\n",
        "                            training_data=dataset,\n",
        "                            label_column_name='DEATH_EVENT',\n",
        "                            path = project_folder,\n",
        "                            featurization= 'auto',\n",
        "                            debug_log = \"automl_errors.log\",\n",
        "                            enable_onnx_compatible_models=False,\n",
        "                            **automl_settings\n",
        "                            )"
      ],
      "outputs": [],
      "execution_count": 6,
      "metadata": {
        "gather": {
          "logged": 1647085808734
        },
        "jupyter": {
          "outputs_hidden": false,
          "source_hidden": false
        },
        "nteract": {
          "transient": {
            "deleting": false
          }
        }
      }
    },
    {
      "cell_type": "code",
      "source": [
        "# TODO: Submit your experiment\n",
        "remote_run = experiment.submit(automl_config)"
      ],
      "outputs": [
        {
          "output_type": "stream",
          "name": "stdout",
          "text": "Submitting remote run.\n"
        },
        {
          "output_type": "display_data",
          "data": {
            "text/html": "<table style=\"width:100%\"><tr><th>Experiment</th><th>Id</th><th>Type</th><th>Status</th><th>Details Page</th><th>Docs Page</th></tr><tr><td>heart-automl</td><td>AutoML_6a6a1e12-6da0-4973-93fc-74bf858a4609</td><td>automl</td><td>NotStarted</td><td><a href=\"https://ml.azure.com/runs/AutoML_6a6a1e12-6da0-4973-93fc-74bf858a4609?wsid=/subscriptions/cdbe0b43-92a0-4715-838a-f2648cc7ad21/resourcegroups/aml-quickstarts-188689/workspaces/quick-starts-ws-188689&amp;tid=660b3398-b80e-49d2-bc5b-ac1dc93b5254\" target=\"_blank\" rel=\"noopener\">Link to Azure Machine Learning studio</a></td><td><a href=\"https://docs.microsoft.com/en-us/python/api/overview/azure/ml/intro?view=azure-ml-py\" target=\"_blank\" rel=\"noopener\">Link to Documentation</a></td></tr></table>",
            "text/plain": "<IPython.core.display.HTML object>"
          },
          "metadata": {}
        }
      ],
      "execution_count": 7,
      "metadata": {
        "gather": {
          "logged": 1647085811769
        },
        "jupyter": {
          "outputs_hidden": false,
          "source_hidden": false
        },
        "nteract": {
          "transient": {
            "deleting": false
          }
        }
      }
    },
    {
      "cell_type": "markdown",
      "source": [
        "## Run Details\n",
        "\n",
        "OPTIONAL: Write about the different models trained and their performance. Why do you think some models did better than others?\n",
        "\n",
        "TODO: In the cell below, use the `RunDetails` widget to show the different experiments."
      ],
      "metadata": {}
    },
    {
      "cell_type": "code",
      "source": [
        "from azureml.widgets import RunDetails\n",
        "RunDetails(remote_run).show()"
      ],
      "outputs": [
        {
          "output_type": "display_data",
          "data": {
            "application/vnd.jupyter.widget-view+json": {
              "model_id": "38c5b7df08e341fe854abee410230c78",
              "version_major": 2,
              "version_minor": 0
            },
            "text/plain": "_AutoMLWidget(widget_settings={'childWidgetDisplay': 'popup', 'send_telemetry': False, 'log_level': 'INFO', 's…"
          },
          "metadata": {}
        },
        {
          "output_type": "display_data",
          "data": {
            "application/aml.mini.widget.v1": "{\"status\": \"Completed\", \"workbench_run_details_uri\": \"https://ml.azure.com/runs/AutoML_6a6a1e12-6da0-4973-93fc-74bf858a4609?wsid=/subscriptions/cdbe0b43-92a0-4715-838a-f2648cc7ad21/resourcegroups/aml-quickstarts-188689/workspaces/quick-starts-ws-188689&tid=660b3398-b80e-49d2-bc5b-ac1dc93b5254\", \"run_id\": \"AutoML_6a6a1e12-6da0-4973-93fc-74bf858a4609\", \"run_properties\": {\"run_id\": \"AutoML_6a6a1e12-6da0-4973-93fc-74bf858a4609\", \"created_utc\": \"2022-03-12T11:50:10.172697Z\", \"properties\": {\"num_iterations\": \"1000\", \"training_type\": \"TrainFull\", \"acquisition_function\": \"EI\", \"primary_metric\": \"accuracy\", \"train_split\": \"0\", \"acquisition_parameter\": \"0\", \"num_cross_validation\": \"2\", \"target\": \"automl-compute\", \"AMLSettingsJsonString\": \"{\\\"path\\\":null,\\\"name\\\":\\\"heart-automl\\\",\\\"subscription_id\\\":\\\"cdbe0b43-92a0-4715-838a-f2648cc7ad21\\\",\\\"resource_group\\\":\\\"aml-quickstarts-188689\\\",\\\"workspace_name\\\":\\\"quick-starts-ws-188689\\\",\\\"region\\\":\\\"southcentralus\\\",\\\"compute_target\\\":\\\"automl-compute\\\",\\\"spark_service\\\":null,\\\"azure_service\\\":\\\"remote\\\",\\\"many_models\\\":false,\\\"pipeline_fetch_max_batch_size\\\":1,\\\"enable_batch_run\\\":true,\\\"enable_run_restructure\\\":false,\\\"start_auxiliary_runs_before_parent_complete\\\":false,\\\"enable_code_generation\\\":false,\\\"iterations\\\":1000,\\\"primary_metric\\\":\\\"accuracy\\\",\\\"task_type\\\":\\\"classification\\\",\\\"positive_label\\\":null,\\\"data_script\\\":null,\\\"test_size\\\":0.0,\\\"test_include_predictions_only\\\":false,\\\"validation_size\\\":0.0,\\\"n_cross_validations\\\":2,\\\"y_min\\\":null,\\\"y_max\\\":null,\\\"num_classes\\\":null,\\\"featurization\\\":\\\"auto\\\",\\\"_ignore_package_version_incompatibilities\\\":false,\\\"is_timeseries\\\":false,\\\"max_cores_per_iteration\\\":1,\\\"max_concurrent_iterations\\\":4,\\\"iteration_timeout_minutes\\\":null,\\\"mem_in_mb\\\":null,\\\"enforce_time_on_windows\\\":false,\\\"experiment_timeout_minutes\\\":20,\\\"experiment_exit_score\\\":null,\\\"whitelist_models\\\":null,\\\"blacklist_algos\\\":[\\\"TensorFlowLinearClassifier\\\",\\\"TensorFlowDNN\\\"],\\\"supported_models\\\":[\\\"LightGBM\\\",\\\"AveragedPerceptronClassifier\\\",\\\"TensorFlowDNN\\\",\\\"TensorFlowLinearClassifier\\\",\\\"ExtremeRandomTrees\\\",\\\"DecisionTree\\\",\\\"TabnetClassifier\\\",\\\"KNN\\\",\\\"GradientBoosting\\\",\\\"SVM\\\",\\\"SGD\\\",\\\"MultinomialNaiveBayes\\\",\\\"BernoulliNaiveBayes\\\",\\\"RandomForest\\\",\\\"XGBoostClassifier\\\",\\\"LinearSVM\\\",\\\"LogisticRegression\\\"],\\\"private_models\\\":[],\\\"auto_blacklist\\\":true,\\\"blacklist_samples_reached\\\":false,\\\"exclude_nan_labels\\\":true,\\\"verbosity\\\":20,\\\"_debug_log\\\":\\\"azureml_automl.log\\\",\\\"show_warnings\\\":false,\\\"model_explainability\\\":true,\\\"service_url\\\":null,\\\"sdk_url\\\":null,\\\"sdk_packages\\\":null,\\\"enable_onnx_compatible_models\\\":false,\\\"enable_split_onnx_featurizer_estimator_models\\\":false,\\\"vm_type\\\":\\\"STANDARD_D2_V2\\\",\\\"telemetry_verbosity\\\":20,\\\"send_telemetry\\\":true,\\\"enable_dnn\\\":false,\\\"scenario\\\":\\\"SDK-1.13.0\\\",\\\"environment_label\\\":null,\\\"save_mlflow\\\":false,\\\"enable_categorical_indicators\\\":false,\\\"force_text_dnn\\\":false,\\\"enable_feature_sweeping\\\":true,\\\"enable_early_stopping\\\":true,\\\"early_stopping_n_iters\\\":10,\\\"arguments\\\":null,\\\"dataset_id\\\":null,\\\"hyperdrive_config\\\":null,\\\"validation_dataset_id\\\":null,\\\"run_source\\\":null,\\\"metrics\\\":null,\\\"enable_metric_confidence\\\":false,\\\"enable_ensembling\\\":true,\\\"enable_stack_ensembling\\\":true,\\\"ensemble_iterations\\\":15,\\\"enable_tf\\\":false,\\\"enable_subsampling\\\":null,\\\"subsample_seed\\\":null,\\\"enable_nimbusml\\\":false,\\\"enable_streaming\\\":false,\\\"force_streaming\\\":false,\\\"track_child_runs\\\":true,\\\"allowed_private_models\\\":[],\\\"label_column_name\\\":\\\"DEATH_EVENT\\\",\\\"weight_column_name\\\":null,\\\"cv_split_column_names\\\":null,\\\"enable_local_managed\\\":false,\\\"_local_managed_run_id\\\":null,\\\"cost_mode\\\":1,\\\"lag_length\\\":0,\\\"metric_operation\\\":\\\"maximize\\\",\\\"preprocess\\\":true}\", \"DataPrepJsonString\": \"{\\\\\\\"training_data\\\\\\\": {\\\\\\\"datasetId\\\\\\\": \\\\\\\"c3918a3d-320f-4303-aea8-d281fbf164aa\\\\\\\"}, \\\\\\\"datasets\\\\\\\": 0}\", \"EnableSubsampling\": null, \"runTemplate\": \"AutoML\", \"azureml.runsource\": \"automl\", \"display_task_type\": \"classification\", \"dependencies_versions\": \"{\\\"azureml-widgets\\\": \\\"1.38.0\\\", \\\"azureml-train\\\": \\\"1.38.0\\\", \\\"azureml-train-restclients-hyperdrive\\\": \\\"1.38.0\\\", \\\"azureml-train-core\\\": \\\"1.38.0\\\", \\\"azureml-train-automl\\\": \\\"1.38.0\\\", \\\"azureml-train-automl-runtime\\\": \\\"1.38.0\\\", \\\"azureml-train-automl-client\\\": \\\"1.38.0\\\", \\\"azureml-tensorboard\\\": \\\"1.38.0\\\", \\\"azureml-telemetry\\\": \\\"1.38.0\\\", \\\"azureml-sdk\\\": \\\"1.38.0\\\", \\\"azureml-responsibleai\\\": \\\"1.38.0\\\", \\\"azureml-pipeline\\\": \\\"1.38.0\\\", \\\"azureml-pipeline-steps\\\": \\\"1.38.0\\\", \\\"azureml-pipeline-core\\\": \\\"1.38.0\\\", \\\"azureml-opendatasets\\\": \\\"1.38.0\\\", \\\"azureml-mlflow\\\": \\\"1.38.0\\\", \\\"azureml-interpret\\\": \\\"1.38.0\\\", \\\"azureml-inference-server-http\\\": \\\"0.4.2\\\", \\\"azureml-explain-model\\\": \\\"1.38.0\\\", \\\"azureml-defaults\\\": \\\"1.38.0\\\", \\\"azureml-dataset-runtime\\\": \\\"1.38.0\\\", \\\"azureml-dataprep\\\": \\\"2.26.0\\\", \\\"azureml-dataprep-rslex\\\": \\\"2.2.0\\\", \\\"azureml-dataprep-native\\\": \\\"38.0.0\\\", \\\"azureml-datadrift\\\": \\\"1.38.0\\\", \\\"azureml-core\\\": \\\"1.38.0\\\", \\\"azureml-contrib-services\\\": \\\"1.38.0\\\", \\\"azureml-contrib-server\\\": \\\"1.38.0\\\", \\\"azureml-contrib-reinforcementlearning\\\": \\\"1.38.0\\\", \\\"azureml-contrib-pipeline-steps\\\": \\\"1.38.0\\\", \\\"azureml-contrib-notebook\\\": \\\"1.38.0\\\", \\\"azureml-contrib-fairness\\\": \\\"1.38.0\\\", \\\"azureml-contrib-dataset\\\": \\\"1.38.0\\\", \\\"azureml-contrib-automl-pipeline-steps\\\": \\\"1.38.0\\\", \\\"azureml-cli-common\\\": \\\"1.38.0\\\", \\\"azureml-automl-runtime\\\": \\\"1.38.0\\\", \\\"azureml-automl-dnn-nlp\\\": \\\"1.38.0\\\", \\\"azureml-automl-core\\\": \\\"1.38.0\\\", \\\"azureml-accel-models\\\": \\\"1.38.0\\\"}\", \"_aml_system_scenario_identification\": \"Remote.Parent\", \"ClientType\": \"SDK\", \"environment_cpu_name\": \"AzureML-AutoML\", \"environment_cpu_label\": \"py36\", \"environment_gpu_name\": \"AzureML-AutoML-GPU\", \"environment_gpu_label\": \"py36\", \"root_attribution\": \"automl\", \"attribution\": \"AutoML\", \"Orchestrator\": \"AutoML\", \"CancelUri\": \"https://southcentralus.api.azureml.ms/jasmine/v1.0/subscriptions/cdbe0b43-92a0-4715-838a-f2648cc7ad21/resourceGroups/aml-quickstarts-188689/providers/Microsoft.MachineLearningServices/workspaces/quick-starts-ws-188689/experimentids/afb44f86-aed8-4ffb-a596-3e1cddd7faa0/cancel/AutoML_6a6a1e12-6da0-4973-93fc-74bf858a4609\", \"ClientSdkVersion\": \"1.38.0\", \"snapshotId\": \"00000000-0000-0000-0000-000000000000\", \"SetupRunId\": \"AutoML_6a6a1e12-6da0-4973-93fc-74bf858a4609_setup\", \"SetupRunContainerId\": \"dcid.AutoML_6a6a1e12-6da0-4973-93fc-74bf858a4609_setup\", \"FeaturizationRunJsonPath\": \"featurizer_container.json\", \"FeaturizationRunId\": \"AutoML_6a6a1e12-6da0-4973-93fc-74bf858a4609_featurize\", \"ProblemInfoJsonString\": \"{\\\"dataset_num_categorical\\\": 0, \\\"is_sparse\\\": false, \\\"subsampling\\\": false, \\\"has_extra_col\\\": true, \\\"dataset_classes\\\": 2, \\\"dataset_features\\\": 12, \\\"dataset_samples\\\": 299, \\\"single_frequency_class_detected\\\": false}\", \"ModelExplainRunId\": \"AutoML_6a6a1e12-6da0-4973-93fc-74bf858a4609_ModelExplain\"}, \"tags\": {\"model_explain_run\": \"best_run\", \"_aml_system_automl_run_workspace_id\": \"4a753b63-65ac-4b60-99da-3c22a772fee5\", \"_aml_system_azureml.automlComponent\": \"AutoML\", \"pipeline_id\": \"\", \"score\": \"\", \"predicted_cost\": \"\", \"fit_time\": \"\", \"training_percent\": \"\", \"iteration\": \"\", \"run_preprocessor\": \"\", \"run_algorithm\": \"\", \"dynamic_whitelisting_iterations\": \"<25>;<30>;<35>;<40>;<45>;\", \"_aml_system_azureml.automl_early_exit_message\": \"No scores improved over last 20 iterations, so experiment stopped early. This early stopping behavior can be disabled by setting enable_early_stopping = False in AutoMLConfig for notebook/python SDK runs.\", \"automl_best_child_run_id\": \"AutoML_6a6a1e12-6da0-4973-93fc-74bf858a4609_48\", \"model_explain_best_run_child_id\": \"AutoML_6a6a1e12-6da0-4973-93fc-74bf858a4609_48\"}, \"end_time_utc\": \"2022-03-12T12:15:18.520847Z\", \"status\": \"Completed\", \"log_files\": {}, \"log_groups\": [], \"run_duration\": \"0:25:08\", \"run_number\": \"1647085810\", \"run_queued_details\": {\"status\": \"Completed\", \"details\": null}}, \"child_runs\": [{\"run_id\": \"AutoML_6a6a1e12-6da0-4973-93fc-74bf858a4609_setup\", \"run_number\": 1647085823, \"metric\": null, \"status\": \"Completed\", \"run_type\": \"azureml.scriptrun\", \"training_percent\": null, \"start_time\": \"2022-03-12T11:56:29.414829Z\", \"end_time\": \"2022-03-12T11:57:29.449104Z\", \"created_time\": \"2022-03-12T11:50:23.310644Z\", \"created_time_dt\": \"2022-03-12T11:50:23.310644Z\", \"duration\": \"0:07:06\", \"iteration\": null, \"goal\": null, \"run_name\": \"Completed\", \"run_properties\": null}, {\"run_id\": \"AutoML_6a6a1e12-6da0-4973-93fc-74bf858a4609_featurize\", \"run_number\": 1647086249, \"metric\": null, \"status\": \"Completed\", \"run_type\": \"automl.featurization\", \"training_percent\": null, \"start_time\": \"2022-03-12T11:57:30.222813Z\", \"end_time\": \"2022-03-12T11:58:08.603516Z\", \"created_time\": \"2022-03-12T11:57:29.873563Z\", \"created_time_dt\": \"2022-03-12T11:57:29.873563Z\", \"duration\": \"0:00:38\", \"iteration\": null, \"goal\": null, \"run_name\": \"Completed\", \"run_properties\": null}, {\"run_id\": \"AutoML_6a6a1e12-6da0-4973-93fc-74bf858a4609_0\", \"run_number\": 1647086290, \"metric\": null, \"status\": \"Completed\", \"run_type\": null, \"training_percent\": \"100\", \"start_time\": \"2022-03-12T11:58:29.493608Z\", \"end_time\": \"2022-03-12T11:58:37.743862Z\", \"created_time\": \"2022-03-12T11:58:10.185388Z\", \"created_time_dt\": \"2022-03-12T11:58:10.185388Z\", \"duration\": \"0:00:27\", \"iteration\": \"0\", \"goal\": \"accuracy_max\", \"run_name\": \"MaxAbsScaler, LightGBM\", \"run_properties\": \"copy=True\", \"primary_metric\": 0.81270694, \"best_metric\": 0.81270694}, {\"run_id\": \"AutoML_6a6a1e12-6da0-4973-93fc-74bf858a4609_2\", \"run_number\": 1647086291, \"metric\": null, \"status\": \"Completed\", \"run_type\": null, \"training_percent\": \"100\", \"start_time\": \"2022-03-12T11:58:46.131451Z\", \"end_time\": \"2022-03-12T11:58:54.488925Z\", \"created_time\": \"2022-03-12T11:58:11.078471Z\", \"created_time_dt\": \"2022-03-12T11:58:11.078471Z\", \"duration\": \"0:00:43\", \"iteration\": \"2\", \"goal\": \"accuracy_max\", \"run_name\": \"MaxAbsScaler, ExtremeRandomTrees\", \"run_properties\": \"copy=True\", \"primary_metric\": 0.83604027, \"best_metric\": 0.83604027}, {\"run_id\": \"AutoML_6a6a1e12-6da0-4973-93fc-74bf858a4609_4\", \"run_number\": 1647086292, \"metric\": null, \"status\": \"Completed\", \"run_type\": null, \"training_percent\": \"100\", \"start_time\": \"2022-03-12T11:59:02.709234Z\", \"end_time\": \"2022-03-12T11:59:10.583511Z\", \"created_time\": \"2022-03-12T11:58:12.085512Z\", \"created_time_dt\": \"2022-03-12T11:58:12.085512Z\", \"duration\": \"0:00:58\", \"iteration\": \"4\", \"goal\": \"accuracy_max\", \"run_name\": \"StandardScalerWrapper, KNN\", \"run_properties\": \"\\n    copy=True,\\n    with_mean=False,\\n    with_std=False\\n\", \"primary_metric\": 0.63881432, \"best_metric\": 0.83604027}, {\"run_id\": \"AutoML_6a6a1e12-6da0-4973-93fc-74bf858a4609_6\", \"run_number\": 1647086293, \"metric\": null, \"status\": \"Completed\", \"run_type\": null, \"training_percent\": \"100\", \"start_time\": \"2022-03-12T11:59:38.443897Z\", \"end_time\": \"2022-03-12T11:59:46.306645Z\", \"created_time\": \"2022-03-12T11:58:12.992737Z\", \"created_time_dt\": \"2022-03-12T11:58:12.992737Z\", \"duration\": \"0:01:33\", \"iteration\": \"6\", \"goal\": \"accuracy_max\", \"run_name\": \"RobustScaler, LogisticRegression\", \"run_properties\": \"copy=True, quantile_range=[10, 90], with_centering=True,\\n             with_scaling=True\", \"primary_metric\": 0.76914989, \"best_metric\": 0.83604027}, {\"run_id\": \"AutoML_6a6a1e12-6da0-4973-93fc-74bf858a4609_9\", \"run_number\": 1647086294, \"metric\": null, \"status\": \"Completed\", \"run_type\": null, \"training_percent\": \"100\", \"start_time\": \"2022-03-12T12:00:02.643718Z\", \"end_time\": \"2022-03-12T12:00:10.572319Z\", \"created_time\": \"2022-03-12T11:58:14.338928Z\", \"created_time_dt\": \"2022-03-12T11:58:14.338928Z\", \"duration\": \"0:01:56\", \"iteration\": \"9\", \"goal\": \"accuracy_max\", \"run_name\": \"StandardScalerWrapper, SVM\", \"run_properties\": \"\\n    copy=True,\\n    with_mean=True,\\n    with_std=True\\n\", \"primary_metric\": 0.69557047, \"best_metric\": 0.83604027}, {\"run_id\": \"AutoML_6a6a1e12-6da0-4973-93fc-74bf858a4609_11\", \"run_number\": 1647086295, \"metric\": null, \"status\": \"Completed\", \"run_type\": null, \"training_percent\": \"100\", \"start_time\": \"2022-03-12T12:00:53.053375Z\", \"end_time\": \"2022-03-12T12:01:01.618193Z\", \"created_time\": \"2022-03-12T11:58:15.318044Z\", \"created_time_dt\": \"2022-03-12T11:58:15.318044Z\", \"duration\": \"0:02:46\", \"iteration\": \"11\", \"goal\": \"accuracy_max\", \"run_name\": \"MinMaxScaler, RandomForest\", \"run_properties\": \"copy=True, feature_range=(0, 1\", \"primary_metric\": 0.83599553, \"best_metric\": 0.83604027}, {\"run_id\": \"AutoML_6a6a1e12-6da0-4973-93fc-74bf858a4609_13\", \"run_number\": 1647086296, \"metric\": null, \"status\": \"Completed\", \"run_type\": null, \"training_percent\": \"100\", \"start_time\": \"2022-03-12T12:01:09.970587Z\", \"end_time\": \"2022-03-12T12:01:17.728109Z\", \"created_time\": \"2022-03-12T11:58:16.400736Z\", \"created_time_dt\": \"2022-03-12T11:58:16.400736Z\", \"duration\": \"0:03:01\", \"iteration\": \"13\", \"goal\": \"accuracy_max\", \"run_name\": \"StandardScalerWrapper, KNN\", \"run_properties\": \"\\n    copy=True,\\n    with_mean=False,\\n    with_std=True\\n\", \"primary_metric\": 0.70234899, \"best_metric\": 0.83604027}, {\"run_id\": \"AutoML_6a6a1e12-6da0-4973-93fc-74bf858a4609_15\", \"run_number\": 1647086297, \"metric\": null, \"status\": \"Completed\", \"run_type\": null, \"training_percent\": \"100\", \"start_time\": \"2022-03-12T12:00:27.595923Z\", \"end_time\": \"2022-03-12T12:00:35.780507Z\", \"created_time\": \"2022-03-12T11:58:17.326895Z\", \"created_time_dt\": \"2022-03-12T11:58:17.326895Z\", \"duration\": \"0:02:18\", \"iteration\": \"15\", \"goal\": \"accuracy_max\", \"run_name\": \"MinMaxScaler, KNN\", \"run_properties\": \"copy=True, feature_range=(0, 1\", \"primary_metric\": 0.69908277, \"best_metric\": 0.83604027}, {\"run_id\": \"AutoML_6a6a1e12-6da0-4973-93fc-74bf858a4609_17\", \"run_number\": 1647086298, \"metric\": null, \"status\": \"Completed\", \"run_type\": null, \"training_percent\": \"100\", \"start_time\": \"2022-03-12T12:00:44.09461Z\", \"end_time\": \"2022-03-12T12:00:51.982467Z\", \"created_time\": \"2022-03-12T11:58:18.076923Z\", \"created_time_dt\": \"2022-03-12T11:58:18.076923Z\", \"duration\": \"0:02:33\", \"iteration\": \"17\", \"goal\": \"accuracy_max\", \"run_name\": \"MaxAbsScaler, LogisticRegression\", \"run_properties\": \"copy=True\", \"primary_metric\": 0.81604027, \"best_metric\": 0.83604027}, {\"run_id\": \"AutoML_6a6a1e12-6da0-4973-93fc-74bf858a4609_worker_3\", \"run_number\": 1647086299, \"metric\": null, \"status\": \"Completed\", \"run_type\": \"azureml.scriptrun\", \"training_percent\": null, \"start_time\": \"2022-03-12T12:01:09.696961Z\", \"end_time\": \"2022-03-12T12:01:13.344353Z\", \"created_time\": \"2022-03-12T11:58:19.114588Z\", \"created_time_dt\": \"2022-03-12T11:58:19.114588Z\", \"duration\": \"0:02:54\", \"iteration\": null, \"goal\": null, \"run_name\": \"Completed\", \"run_properties\": null}, {\"run_id\": \"AutoML_6a6a1e12-6da0-4973-93fc-74bf858a4609_20\", \"run_number\": 1647086471, \"metric\": null, \"status\": \"Completed\", \"run_type\": \"azureml.scriptrun\", \"training_percent\": \"100\", \"start_time\": \"2022-03-12T12:01:40.049965Z\", \"end_time\": \"2022-03-12T12:01:43.709465Z\", \"created_time\": \"2022-03-12T12:01:11.127073Z\", \"created_time_dt\": \"2022-03-12T12:01:11.127073Z\", \"duration\": \"0:00:32\", \"iteration\": \"20\", \"goal\": \"accuracy_max\", \"run_name\": \"MaxAbsScaler, LogisticRegression\", \"run_properties\": \"copy=True\", \"primary_metric\": 0.789217, \"best_metric\": 0.83604027}, {\"run_id\": \"AutoML_6a6a1e12-6da0-4973-93fc-74bf858a4609_22\", \"run_number\": 1647086480, \"metric\": null, \"status\": \"Completed\", \"run_type\": \"azureml.scriptrun\", \"training_percent\": \"100\", \"start_time\": \"2022-03-12T12:02:07.482262Z\", \"end_time\": \"2022-03-12T12:02:11.173577Z\", \"created_time\": \"2022-03-12T12:01:20.537247Z\", \"created_time_dt\": \"2022-03-12T12:01:20.537247Z\", \"duration\": \"0:00:50\", \"iteration\": \"22\", \"goal\": \"accuracy_max\", \"run_name\": \"SparseNormalizer, RandomForest\", \"run_properties\": \"copy=True, norm='l2'\", \"primary_metric\": 0.76597315, \"best_metric\": 0.83604027}, {\"run_id\": \"AutoML_6a6a1e12-6da0-4973-93fc-74bf858a4609_23\", \"run_number\": 1647086506, \"metric\": null, \"status\": \"Completed\", \"run_type\": \"azureml.scriptrun\", \"training_percent\": \"100\", \"start_time\": \"2022-03-12T12:02:56.719766Z\", \"end_time\": \"2022-03-12T12:03:00.412616Z\", \"created_time\": \"2022-03-12T12:01:46.46605Z\", \"created_time_dt\": \"2022-03-12T12:01:46.46605Z\", \"duration\": \"0:01:13\", \"iteration\": \"23\", \"goal\": \"accuracy_max\", \"run_name\": \"StandardScalerWrapper, RandomForest\", \"run_properties\": \"\\n    copy=True,\\n    with_mean=False,\\n    with_std=False\\n\", \"primary_metric\": 0.80268456, \"best_metric\": 0.83604027}, {\"run_id\": \"AutoML_6a6a1e12-6da0-4973-93fc-74bf858a4609_25\", \"run_number\": 1647086520, \"metric\": null, \"status\": \"Completed\", \"run_type\": \"azureml.scriptrun\", \"training_percent\": \"100\", \"start_time\": \"2022-03-12T12:03:34.775044Z\", \"end_time\": \"2022-03-12T12:03:38.401067Z\", \"created_time\": \"2022-03-12T12:02:00.485242Z\", \"created_time_dt\": \"2022-03-12T12:02:00.485242Z\", \"duration\": \"0:01:37\", \"iteration\": \"25\", \"goal\": \"accuracy_max\", \"run_name\": \"StandardScalerWrapper, XGBoostClassifier\", \"run_properties\": \"\\n    copy=True,\\n    with_mean=False,\\n    with_std=False\\n\", \"primary_metric\": 0.83608501, \"best_metric\": 0.83608501}, {\"run_id\": \"AutoML_6a6a1e12-6da0-4973-93fc-74bf858a4609_26\", \"run_number\": 1647086533, \"metric\": null, \"status\": \"Completed\", \"run_type\": \"azureml.scriptrun\", \"training_percent\": \"100\", \"start_time\": \"2022-03-12T12:03:58.747548Z\", \"end_time\": \"2022-03-12T12:04:02.381219Z\", \"created_time\": \"2022-03-12T12:02:13.072002Z\", \"created_time_dt\": \"2022-03-12T12:02:13.072002Z\", \"duration\": \"0:01:49\", \"iteration\": \"26\", \"goal\": \"accuracy_max\", \"run_name\": \"RobustScaler, RandomForest\", \"run_properties\": \"copy=True, quantile_range=[10, 90], with_centering=True,\\n             with_scaling=True\", \"primary_metric\": 0.83608501, \"best_metric\": 0.83608501}, {\"run_id\": \"AutoML_6a6a1e12-6da0-4973-93fc-74bf858a4609_27\", \"run_number\": 1647086582, \"metric\": null, \"status\": \"Completed\", \"run_type\": \"azureml.scriptrun\", \"training_percent\": \"100\", \"start_time\": \"2022-03-12T12:04:59.246079Z\", \"end_time\": \"2022-03-12T12:05:02.931612Z\", \"created_time\": \"2022-03-12T12:03:02.304668Z\", \"created_time_dt\": \"2022-03-12T12:03:02.304668Z\", \"duration\": \"0:02:00\", \"iteration\": \"27\", \"goal\": \"accuracy_max\", \"run_name\": \"SparseNormalizer, XGBoostClassifier\", \"run_properties\": \"copy=True, norm='l2'\", \"primary_metric\": 0.79926174, \"best_metric\": 0.83608501}, {\"run_id\": \"AutoML_6a6a1e12-6da0-4973-93fc-74bf858a4609_28\", \"run_number\": 1647086620, \"metric\": null, \"status\": \"Completed\", \"run_type\": \"azureml.scriptrun\", \"training_percent\": \"100\", \"start_time\": \"2022-03-12T12:05:39.480264Z\", \"end_time\": \"2022-03-12T12:05:45.368436Z\", \"created_time\": \"2022-03-12T12:03:40.231997Z\", \"created_time_dt\": \"2022-03-12T12:03:40.231997Z\", \"duration\": \"0:02:05\", \"iteration\": \"28\", \"goal\": \"accuracy_max\", \"run_name\": \"SparseNormalizer, XGBoostClassifier\", \"run_properties\": \"copy=True, norm='l2'\", \"primary_metric\": 0.80595078, \"best_metric\": 0.83608501}, {\"run_id\": \"AutoML_6a6a1e12-6da0-4973-93fc-74bf858a4609_29\", \"run_number\": 1647086622, \"metric\": null, \"status\": \"Completed\", \"run_type\": \"azureml.scriptrun\", \"training_percent\": \"100\", \"start_time\": \"2022-03-12T12:05:38.685852Z\", \"end_time\": \"2022-03-12T12:05:42.301737Z\", \"created_time\": \"2022-03-12T12:03:42.886965Z\", \"created_time_dt\": \"2022-03-12T12:03:42.886965Z\", \"duration\": \"0:01:59\", \"iteration\": \"29\", \"goal\": \"accuracy_max\", \"run_name\": \"RobustScaler, LightGBM\", \"run_properties\": \"copy=True, quantile_range=[25, 75], with_centering=True,\\n             with_scaling=False\", \"primary_metric\": 0.83944072, \"best_metric\": 0.83944072}, {\"run_id\": \"AutoML_6a6a1e12-6da0-4973-93fc-74bf858a4609_30\", \"run_number\": 1647086645, \"metric\": null, \"status\": \"Completed\", \"run_type\": \"azureml.scriptrun\", \"training_percent\": \"100\", \"start_time\": \"2022-03-12T12:06:19.347298Z\", \"end_time\": \"2022-03-12T12:06:22.975031Z\", \"created_time\": \"2022-03-12T12:04:05.37534Z\", \"created_time_dt\": \"2022-03-12T12:04:05.37534Z\", \"duration\": \"0:02:17\", \"iteration\": \"30\", \"goal\": \"accuracy_max\", \"run_name\": \"TruncatedSVDWrapper, XGBoostClassifier\", \"run_properties\": \"n_components=0.8510526315789474, random_state=None\", \"primary_metric\": 0.67894855, \"best_metric\": 0.83944072}, {\"run_id\": \"AutoML_6a6a1e12-6da0-4973-93fc-74bf858a4609_31\", \"run_number\": 1647086705, \"metric\": null, \"status\": \"Completed\", \"run_type\": \"azureml.scriptrun\", \"training_percent\": \"100\", \"start_time\": \"2022-03-12T12:07:04.345358Z\", \"end_time\": \"2022-03-12T12:07:07.9464Z\", \"created_time\": \"2022-03-12T12:05:04.987673Z\", \"created_time_dt\": \"2022-03-12T12:05:04.987673Z\", \"duration\": \"0:02:02\", \"iteration\": \"31\", \"goal\": \"accuracy_max\", \"run_name\": \"StandardScalerWrapper, RandomForest\", \"run_properties\": \"\\n    copy=True,\\n    with_mean=True,\\n    with_std=True\\n\", \"primary_metric\": 0.85619687, \"best_metric\": 0.85619687}, {\"run_id\": \"AutoML_6a6a1e12-6da0-4973-93fc-74bf858a4609_32\", \"run_number\": 1647086744, \"metric\": null, \"status\": \"Completed\", \"run_type\": \"azureml.scriptrun\", \"training_percent\": \"100\", \"start_time\": \"2022-03-12T12:07:37.657987Z\", \"end_time\": \"2022-03-12T12:07:41.290058Z\", \"created_time\": \"2022-03-12T12:05:44.256239Z\", \"created_time_dt\": \"2022-03-12T12:05:44.256239Z\", \"duration\": \"0:01:57\", \"iteration\": \"32\", \"goal\": \"accuracy_max\", \"run_name\": \"SparseNormalizer, XGBoostClassifier\", \"run_properties\": \"copy=True, norm='l1'\", \"primary_metric\": 0.80261745, \"best_metric\": 0.85619687}, {\"run_id\": \"AutoML_6a6a1e12-6da0-4973-93fc-74bf858a4609_33\", \"run_number\": 1647086747, \"metric\": null, \"status\": \"Completed\", \"run_type\": \"azureml.scriptrun\", \"training_percent\": \"100\", \"start_time\": \"2022-03-12T12:07:36.753144Z\", \"end_time\": \"2022-03-12T12:07:40.356807Z\", \"created_time\": \"2022-03-12T12:05:47.28754Z\", \"created_time_dt\": \"2022-03-12T12:05:47.28754Z\", \"duration\": \"0:01:53\", \"iteration\": \"33\", \"goal\": \"accuracy_max\", \"run_name\": \"MinMaxScaler, LightGBM\", \"run_properties\": \"copy=True, feature_range=(0, 1\", \"primary_metric\": 0.78263982, \"best_metric\": 0.85619687}, {\"run_id\": \"AutoML_6a6a1e12-6da0-4973-93fc-74bf858a4609_34\", \"run_number\": 1647086784, \"metric\": null, \"status\": \"Completed\", \"run_type\": \"azureml.scriptrun\", \"training_percent\": \"100\", \"start_time\": \"2022-03-12T12:08:05.204795Z\", \"end_time\": \"2022-03-12T12:08:08.842148Z\", \"created_time\": \"2022-03-12T12:06:24.774101Z\", \"created_time_dt\": \"2022-03-12T12:06:24.774101Z\", \"duration\": \"0:01:44\", \"iteration\": \"34\", \"goal\": \"accuracy_max\", \"run_name\": \"StandardScalerWrapper, XGBoostClassifier\", \"run_properties\": \"\\n    copy=True,\\n    with_mean=False,\\n    with_std=False\\n\", \"primary_metric\": 0.83272931, \"best_metric\": 0.85619687}, {\"run_id\": \"AutoML_6a6a1e12-6da0-4973-93fc-74bf858a4609_35\", \"run_number\": 1647086830, \"metric\": null, \"status\": \"Completed\", \"run_type\": \"azureml.scriptrun\", \"training_percent\": \"100\", \"start_time\": \"2022-03-12T12:08:57.352906Z\", \"end_time\": \"2022-03-12T12:09:01.007264Z\", \"created_time\": \"2022-03-12T12:07:10.969136Z\", \"created_time_dt\": \"2022-03-12T12:07:10.969136Z\", \"duration\": \"0:01:50\", \"iteration\": \"35\", \"goal\": \"accuracy_max\", \"run_name\": \"StandardScalerWrapper, RandomForest\", \"run_properties\": \"\\n    copy=True,\\n    with_mean=False,\\n    with_std=False\\n\", \"primary_metric\": 0.81266219, \"best_metric\": 0.85619687}, {\"run_id\": \"AutoML_6a6a1e12-6da0-4973-93fc-74bf858a4609_36\", \"run_number\": 1647086862, \"metric\": null, \"status\": \"Completed\", \"run_type\": \"azureml.scriptrun\", \"training_percent\": \"100\", \"start_time\": \"2022-03-12T12:09:44.245336Z\", \"end_time\": \"2022-03-12T12:09:47.902493Z\", \"created_time\": \"2022-03-12T12:07:42.171941Z\", \"created_time_dt\": \"2022-03-12T12:07:42.171941Z\", \"duration\": \"0:02:05\", \"iteration\": \"36\", \"goal\": \"accuracy_max\", \"run_name\": \"StandardScalerWrapper, XGBoostClassifier\", \"run_properties\": \"\\n    copy=True,\\n    with_mean=False,\\n    with_std=False\\n\", \"primary_metric\": 0.83270694, \"best_metric\": 0.85619687}, {\"run_id\": \"AutoML_6a6a1e12-6da0-4973-93fc-74bf858a4609_37\", \"run_number\": 1647086865, \"metric\": null, \"status\": \"Completed\", \"run_type\": \"azureml.scriptrun\", \"training_percent\": \"100\", \"start_time\": \"2022-03-12T12:09:43.593879Z\", \"end_time\": \"2022-03-12T12:09:47.154212Z\", \"created_time\": \"2022-03-12T12:07:45.018166Z\", \"created_time_dt\": \"2022-03-12T12:07:45.018166Z\", \"duration\": \"0:02:02\", \"iteration\": \"37\", \"goal\": \"accuracy_max\", \"run_name\": \"SparseNormalizer, XGBoostClassifier\", \"run_properties\": \"copy=True, norm='l2'\", \"primary_metric\": 0.79263982, \"best_metric\": 0.85619687}, {\"run_id\": \"AutoML_6a6a1e12-6da0-4973-93fc-74bf858a4609_38\", \"run_number\": 1647086890, \"metric\": null, \"status\": \"Completed\", \"run_type\": \"azureml.scriptrun\", \"training_percent\": \"100\", \"start_time\": \"2022-03-12T12:10:11.908667Z\", \"end_time\": \"2022-03-12T12:10:15.577554Z\", \"created_time\": \"2022-03-12T12:08:10.712761Z\", \"created_time_dt\": \"2022-03-12T12:08:10.712761Z\", \"duration\": \"0:02:04\", \"iteration\": \"38\", \"goal\": \"accuracy_max\", \"run_name\": \"RobustScaler, RandomForest\", \"run_properties\": \"copy=True, quantile_range=[25, 75], with_centering=True,\\n             with_scaling=True\", \"primary_metric\": 0.84277405, \"best_metric\": 0.85619687}, {\"run_id\": \"AutoML_6a6a1e12-6da0-4973-93fc-74bf858a4609_39\", \"run_number\": 1647086942, \"metric\": null, \"status\": \"Completed\", \"run_type\": \"azureml.scriptrun\", \"training_percent\": \"100\", \"start_time\": \"2022-03-12T12:10:57.755046Z\", \"end_time\": \"2022-03-12T12:11:01.405127Z\", \"created_time\": \"2022-03-12T12:09:02.954433Z\", \"created_time_dt\": \"2022-03-12T12:09:02.954433Z\", \"duration\": \"0:01:58\", \"iteration\": \"39\", \"goal\": \"accuracy_max\", \"run_name\": \"StandardScalerWrapper, XGBoostClassifier\", \"run_properties\": \"\\n    copy=True,\\n    with_mean=False,\\n    with_std=False\\n\", \"primary_metric\": 0.80930649, \"best_metric\": 0.85619687}, {\"run_id\": \"AutoML_6a6a1e12-6da0-4973-93fc-74bf858a4609_40\", \"run_number\": 1647086989, \"metric\": null, \"status\": \"Completed\", \"run_type\": \"azureml.scriptrun\", \"training_percent\": \"100\", \"start_time\": \"2022-03-12T12:11:48.140247Z\", \"end_time\": \"2022-03-12T12:11:51.848258Z\", \"created_time\": \"2022-03-12T12:09:49.906782Z\", \"created_time_dt\": \"2022-03-12T12:09:49.906782Z\", \"duration\": \"0:02:01\", \"iteration\": \"40\", \"goal\": \"accuracy_max\", \"run_name\": \"StandardScalerWrapper, RandomForest\", \"run_properties\": \"\\n    copy=True,\\n    with_mean=False,\\n    with_std=True\\n\", \"primary_metric\": 0.83948546, \"best_metric\": 0.85619687}, {\"run_id\": \"AutoML_6a6a1e12-6da0-4973-93fc-74bf858a4609_41\", \"run_number\": 1647086992, \"metric\": null, \"status\": \"Completed\", \"run_type\": \"azureml.scriptrun\", \"training_percent\": \"100\", \"start_time\": \"2022-03-12T12:11:46.563752Z\", \"end_time\": \"2022-03-12T12:11:50.181218Z\", \"created_time\": \"2022-03-12T12:09:52.456168Z\", \"created_time_dt\": \"2022-03-12T12:09:52.456168Z\", \"duration\": \"0:01:57\", \"iteration\": \"41\", \"goal\": \"accuracy_max\", \"run_name\": \"MaxAbsScaler, LightGBM\", \"run_properties\": \"copy=True\", \"primary_metric\": 0.83281879, \"best_metric\": 0.85619687}, {\"run_id\": \"AutoML_6a6a1e12-6da0-4973-93fc-74bf858a4609_42\", \"run_number\": 1647087017, \"metric\": null, \"status\": \"Completed\", \"run_type\": \"azureml.scriptrun\", \"training_percent\": \"100\", \"start_time\": \"2022-03-12T12:12:14.853404Z\", \"end_time\": \"2022-03-12T12:12:18.502719Z\", \"created_time\": \"2022-03-12T12:10:17.325529Z\", \"created_time_dt\": \"2022-03-12T12:10:17.325529Z\", \"duration\": \"0:02:01\", \"iteration\": \"42\", \"goal\": \"accuracy_max\", \"run_name\": \"SparseNormalizer, XGBoostClassifier\", \"run_properties\": \"copy=True, norm='max'\", \"primary_metric\": 0.82604027, \"best_metric\": 0.85619687}, {\"run_id\": \"AutoML_6a6a1e12-6da0-4973-93fc-74bf858a4609_43\", \"run_number\": 1647087063, \"metric\": null, \"status\": \"Completed\", \"run_type\": \"azureml.scriptrun\", \"training_percent\": \"100\", \"start_time\": \"2022-03-12T12:13:03.347213Z\", \"end_time\": \"2022-03-12T12:13:07.033264Z\", \"created_time\": \"2022-03-12T12:11:03.109128Z\", \"created_time_dt\": \"2022-03-12T12:11:03.109128Z\", \"duration\": \"0:02:03\", \"iteration\": \"43\", \"goal\": \"accuracy_max\", \"run_name\": \"StandardScalerWrapper, LightGBM\", \"run_properties\": \"\\n    copy=True,\\n    with_mean=False,\\n    with_std=True\\n\", \"primary_metric\": 0.84277405, \"best_metric\": 0.85619687}, {\"run_id\": \"AutoML_6a6a1e12-6da0-4973-93fc-74bf858a4609_44\", \"run_number\": 1647087112, \"metric\": null, \"status\": \"Completed\", \"run_type\": \"azureml.scriptrun\", \"training_percent\": \"100\", \"start_time\": \"2022-03-12T12:13:43.697815Z\", \"end_time\": \"2022-03-12T12:13:47.414024Z\", \"created_time\": \"2022-03-12T12:11:52.040676Z\", \"created_time_dt\": \"2022-03-12T12:11:52.040676Z\", \"duration\": \"0:01:55\", \"iteration\": \"44\", \"goal\": \"accuracy_max\", \"run_name\": \"RobustScaler, RandomForest\", \"run_properties\": \"copy=True, quantile_range=[25, 75], with_centering=True,\\n             with_scaling=False\", \"primary_metric\": 0.83948546, \"best_metric\": 0.85619687}, {\"run_id\": \"AutoML_6a6a1e12-6da0-4973-93fc-74bf858a4609_45\", \"run_number\": 1647087115, \"metric\": null, \"status\": \"Completed\", \"run_type\": \"azureml.scriptrun\", \"training_percent\": \"100\", \"start_time\": \"2022-03-12T12:13:44.832126Z\", \"end_time\": \"2022-03-12T12:13:48.39967Z\", \"created_time\": \"2022-03-12T12:11:55.917447Z\", \"created_time_dt\": \"2022-03-12T12:11:55.917447Z\", \"duration\": \"0:01:52\", \"iteration\": \"45\", \"goal\": \"accuracy_max\", \"run_name\": \"StandardScalerWrapper, RandomForest\", \"run_properties\": \"\\n    copy=True,\\n    with_mean=False,\\n    with_std=True\\n\", \"primary_metric\": 0.83946309, \"best_metric\": 0.85619687}, {\"run_id\": \"AutoML_6a6a1e12-6da0-4973-93fc-74bf858a4609_46\", \"run_number\": 1647087140, \"metric\": null, \"status\": \"Canceled\", \"run_type\": \"azureml.scriptrun\", \"training_percent\": \"100\", \"start_time\": \"2022-03-12T12:13:48.268606Z\", \"end_time\": \"2022-03-12T12:13:48.568029Z\", \"created_time\": \"2022-03-12T12:12:20.325927Z\", \"created_time_dt\": \"2022-03-12T12:12:20.325927Z\", \"duration\": \"0:01:28\", \"iteration\": \"46\", \"goal\": null, \"run_name\": \"Canceled\", \"run_properties\": null}, {\"run_id\": \"AutoML_6a6a1e12-6da0-4973-93fc-74bf858a4609_47\", \"run_number\": 1647087188, \"metric\": null, \"status\": \"Canceled\", \"run_type\": \"azureml.scriptrun\", \"training_percent\": \"100\", \"start_time\": \"2022-03-12T12:13:48.315922Z\", \"end_time\": \"2022-03-12T12:13:48.600026Z\", \"created_time\": \"2022-03-12T12:13:08.947274Z\", \"created_time_dt\": \"2022-03-12T12:13:08.947274Z\", \"duration\": \"0:00:39\", \"iteration\": \"47\", \"goal\": null, \"run_name\": \"Canceled\", \"run_properties\": null}, {\"run_id\": \"AutoML_6a6a1e12-6da0-4973-93fc-74bf858a4609_49\", \"run_number\": 1647087229, \"metric\": null, \"status\": \"Completed\", \"run_type\": \"azureml.scriptrun\", \"training_percent\": \"100\", \"start_time\": \"2022-03-12T12:14:28.714044Z\", \"end_time\": \"2022-03-12T12:14:32.323361Z\", \"created_time\": \"2022-03-12T12:13:49.428182Z\", \"created_time_dt\": \"2022-03-12T12:13:49.428182Z\", \"duration\": \"0:00:42\", \"iteration\": \"49\", \"goal\": \"accuracy_max\", \"run_name\": \"StackEnsemble\", \"run_properties\": \"\\n    base_learners=[('31', Pipeline(\\n        memory=None,\\n        steps=[('standardscalerwrapper', StandardScalerWrapper(\\n            copy=True,\\n            with_mean=True,\\n            with_std=True\\n        \", \"primary_metric\": 0.80930649, \"best_metric\": 0.85619687}], \"children_metrics\": {\"categories\": [0], \"series\": {\"accuracy\": [{\"categories\": [\"0\", \"2\", \"4\", \"6\", \"9\", \"11\", \"13\", \"15\", \"17\", \"20\", \"22\", \"23\", \"25\", \"26\", \"27\", \"28\", \"29\", \"30\", \"31\", \"32\", \"33\", \"34\", \"35\", \"36\", \"37\", \"38\", \"39\", \"40\", \"41\", \"42\", \"43\", \"44\", \"45\", \"49\"], \"mode\": \"markers\", \"name\": \"accuracy\", \"stepped\": false, \"type\": \"scatter\", \"data\": [0.8127069351230425, 0.8360402684563759, 0.638814317673378, 0.7691498881431768, 0.6955704697986578, 0.8359955257270693, 0.7023489932885906, 0.6990827740492169, 0.8160402684563759, 0.7892170022371365, 0.7659731543624161, 0.8026845637583893, 0.8360850111856823, 0.8360850111856823, 0.799261744966443, 0.8059507829977628, 0.839440715883669, 0.6789485458612976, 0.8561968680089486, 0.8026174496644295, 0.7826398210290828, 0.8327293064876957, 0.812662192393736, 0.8327069351230425, 0.7926398210290828, 0.8427740492170023, 0.8093064876957494, 0.8394854586129754, 0.8328187919463087, 0.8260402684563759, 0.8427740492170023, 0.8394854586129754, 0.8394630872483222, 0.8093064876957494]}, {\"categories\": [\"0\", \"2\", \"4\", \"6\", \"9\", \"11\", \"13\", \"15\", \"17\", \"20\", \"22\", \"23\", \"25\", \"26\", \"27\", \"28\", \"29\", \"30\", \"31\", \"32\", \"33\", \"34\", \"35\", \"36\", \"37\", \"38\", \"39\", \"40\", \"41\", \"42\", \"43\", \"44\", \"45\", \"49\"], \"mode\": \"lines\", \"name\": \"accuracy_max\", \"stepped\": true, \"type\": \"scatter\", \"data\": [0.8127069351230425, 0.8360402684563759, 0.8360402684563759, 0.8360402684563759, 0.8360402684563759, 0.8360402684563759, 0.8360402684563759, 0.8360402684563759, 0.8360402684563759, 0.8360402684563759, 0.8360402684563759, 0.8360402684563759, 0.8360850111856823, 0.8360850111856823, 0.8360850111856823, 0.8360850111856823, 0.839440715883669, 0.839440715883669, 0.8561968680089486, 0.8561968680089486, 0.8561968680089486, 0.8561968680089486, 0.8561968680089486, 0.8561968680089486, 0.8561968680089486, 0.8561968680089486, 0.8561968680089486, 0.8561968680089486, 0.8561968680089486, 0.8561968680089486, 0.8561968680089486, 0.8561968680089486, 0.8561968680089486, 0.8561968680089486]}], \"precision_score_weighted\": [{\"categories\": [\"0\", \"2\", \"4\", \"6\", \"9\", \"11\", \"13\", \"15\", \"17\", \"20\", \"22\", \"23\", \"25\", \"26\", \"27\", \"28\", \"29\", \"30\", \"31\", \"32\", \"33\", \"34\", \"35\", \"36\", \"37\", \"38\", \"39\", \"40\", \"41\", \"42\", \"43\", \"44\", \"45\", \"49\"], \"mode\": \"markers\", \"name\": \"precision_score_weighted\", \"stepped\": false, \"type\": \"scatter\", \"data\": [0.8129063373603715, 0.8411059970610639, 0.6049745626675379, 0.8038063136671243, 0.698459892180828, 0.8487363688041154, 0.7667539643624501, 0.6775362600199231, 0.8180148958375257, 0.7940787076142843, 0.7605842228211821, 0.8076696062243867, 0.8375060632018103, 0.8395044898311095, 0.8015887804491681, 0.807388461775139, 0.8407744417294667, 0.46100265853890465, 0.8596382270300129, 0.8017938629197903, 0.7885333478989595, 0.8345443725929093, 0.8307661866389617, 0.8355485590720491, 0.7874735693282862, 0.8452552028109142, 0.8148825214953418, 0.8429603244279609, 0.8369866897763601, 0.8261128868537682, 0.8431023066257393, 0.8423537765445956, 0.8507973807957707, 0.8267013038987646]}, {\"categories\": [\"0\", \"2\", \"4\", \"6\", \"9\", \"11\", \"13\", \"15\", \"17\", \"20\", \"22\", \"23\", \"25\", \"26\", \"27\", \"28\", \"29\", \"30\", \"31\", \"32\", \"33\", \"34\", \"35\", \"36\", \"37\", \"38\", \"39\", \"40\", \"41\", \"42\", \"43\", \"44\", \"45\", \"49\"], \"mode\": \"lines\", \"name\": \"precision_score_weighted_max\", \"stepped\": true, \"type\": \"scatter\", \"data\": [0.8129063373603715, 0.8411059970610639, 0.8411059970610639, 0.8411059970610639, 0.8411059970610639, 0.8487363688041154, 0.8487363688041154, 0.8487363688041154, 0.8487363688041154, 0.8487363688041154, 0.8487363688041154, 0.8487363688041154, 0.8487363688041154, 0.8487363688041154, 0.8487363688041154, 0.8487363688041154, 0.8487363688041154, 0.8487363688041154, 0.8596382270300129, 0.8596382270300129, 0.8596382270300129, 0.8596382270300129, 0.8596382270300129, 0.8596382270300129, 0.8596382270300129, 0.8596382270300129, 0.8596382270300129, 0.8596382270300129, 0.8596382270300129, 0.8596382270300129, 0.8596382270300129, 0.8596382270300129, 0.8596382270300129, 0.8596382270300129]}], \"weighted_accuracy\": [{\"categories\": [\"0\", \"2\", \"4\", \"6\", \"9\", \"11\", \"13\", \"15\", \"17\", \"20\", \"22\", \"23\", \"25\", \"26\", \"27\", \"28\", \"29\", \"30\", \"31\", \"32\", \"33\", \"34\", \"35\", \"36\", \"37\", \"38\", \"39\", \"40\", \"41\", \"42\", \"43\", \"44\", \"45\", \"49\"], \"mode\": \"markers\", \"name\": \"weighted_accuracy\", \"stepped\": false, \"type\": \"scatter\", \"data\": [0.8569164934675346, 0.8533173742127869, 0.7156456026348975, 0.7620255722737176, 0.7536244858776298, 0.8488845002422349, 0.8284718114598575, 0.7926884780030045, 0.8609237938960381, 0.8201254533009847, 0.8067782151744674, 0.861832264388962, 0.8724266514221988, 0.8680660710685953, 0.8343999383802453, 0.8403875214686751, 0.8700463537285217, 0.8171689614505722, 0.8901103175051855, 0.8385605112169734, 0.8503294068628015, 0.8683832041852211, 0.828851804351415, 0.8705273475535483, 0.8309353370935408, 0.8740536541570252, 0.8635850778978665, 0.8741278508998225, 0.8702395791969182, 0.8625127466965415, 0.8805945246874303, 0.8698843961459696, 0.871794288314796, 0.8332952666221434]}, {\"categories\": [\"0\", \"2\", \"4\", \"6\", \"9\", \"11\", \"13\", \"15\", \"17\", \"20\", \"22\", \"23\", \"25\", \"26\", \"27\", \"28\", \"29\", \"30\", \"31\", \"32\", \"33\", \"34\", \"35\", \"36\", \"37\", \"38\", \"39\", \"40\", \"41\", \"42\", \"43\", \"44\", \"45\", \"49\"], \"mode\": \"lines\", \"name\": \"weighted_accuracy_max\", \"stepped\": true, \"type\": \"scatter\", \"data\": [0.8569164934675346, 0.8569164934675346, 0.8569164934675346, 0.8569164934675346, 0.8569164934675346, 0.8569164934675346, 0.8569164934675346, 0.8569164934675346, 0.8609237938960381, 0.8609237938960381, 0.8609237938960381, 0.861832264388962, 0.8724266514221988, 0.8724266514221988, 0.8724266514221988, 0.8724266514221988, 0.8724266514221988, 0.8724266514221988, 0.8901103175051855, 0.8901103175051855, 0.8901103175051855, 0.8901103175051855, 0.8901103175051855, 0.8901103175051855, 0.8901103175051855, 0.8901103175051855, 0.8901103175051855, 0.8901103175051855, 0.8901103175051855, 0.8901103175051855, 0.8901103175051855, 0.8901103175051855, 0.8901103175051855, 0.8901103175051855]}], \"AUC_macro\": [{\"categories\": [\"0\", \"2\", \"4\", \"6\", \"9\", \"11\", \"13\", \"15\", \"17\", \"20\", \"22\", \"23\", \"25\", \"26\", \"27\", \"28\", \"29\", \"30\", \"31\", \"32\", \"33\", \"34\", \"35\", \"36\", \"37\", \"38\", \"39\", \"40\", \"41\", \"42\", \"43\", \"44\", \"45\", \"49\"], \"mode\": \"markers\", \"name\": \"AUC_macro\", \"stepped\": false, \"type\": \"scatter\", \"data\": [0.8565437129138573, 0.8643762539774704, 0.5367003131566508, 0.8477216249887358, 0.7561442630559703, 0.9089773680696209, 0.7984717164725591, 0.6913252556130942, 0.8516982103563987, 0.8493838445426622, 0.8374188520995085, 0.8730155902681275, 0.8912240059284721, 0.8652871618417748, 0.8693687502386671, 0.8466582440855002, 0.8761899430090132, 0.5, 0.8998813555335764, 0.8707897104491681, 0.8893179559584525, 0.8907482521131478, 0.8728286342976205, 0.8912114034575279, 0.836548312183521, 0.8821966484086788, 0.8935754731637757, 0.8680134682902021, 0.8845204081211167, 0.8610872830278098, 0.8821788563750759, 0.9028695742042341, 0.9095017720591502, 0.8989881817483681]}, {\"categories\": [\"0\", \"2\", \"4\", \"6\", \"9\", \"11\", \"13\", \"15\", \"17\", \"20\", \"22\", \"23\", \"25\", \"26\", \"27\", \"28\", \"29\", \"30\", \"31\", \"32\", \"33\", \"34\", \"35\", \"36\", \"37\", \"38\", \"39\", \"40\", \"41\", \"42\", \"43\", \"44\", \"45\", \"49\"], \"mode\": \"lines\", \"name\": \"AUC_macro_max\", \"stepped\": true, \"type\": \"scatter\", \"data\": [0.8565437129138573, 0.8643762539774704, 0.8643762539774704, 0.8643762539774704, 0.8643762539774704, 0.9089773680696209, 0.9089773680696209, 0.9089773680696209, 0.9089773680696209, 0.9089773680696209, 0.9089773680696209, 0.9089773680696209, 0.9089773680696209, 0.9089773680696209, 0.9089773680696209, 0.9089773680696209, 0.9089773680696209, 0.9089773680696209, 0.9089773680696209, 0.9089773680696209, 0.9089773680696209, 0.9089773680696209, 0.9089773680696209, 0.9089773680696209, 0.9089773680696209, 0.9089773680696209, 0.9089773680696209, 0.9089773680696209, 0.9089773680696209, 0.9089773680696209, 0.9089773680696209, 0.9089773680696209, 0.9095017720591502, 0.9095017720591502]}], \"f1_score_weighted\": [{\"categories\": [\"0\", \"2\", \"4\", \"6\", \"9\", \"11\", \"13\", \"15\", \"17\", \"20\", \"22\", \"23\", \"25\", \"26\", \"27\", \"28\", \"29\", \"30\", \"31\", \"32\", \"33\", \"34\", \"35\", \"36\", \"37\", \"38\", \"39\", \"40\", \"41\", \"42\", \"43\", \"44\", \"45\", \"49\"], \"mode\": \"markers\", \"name\": \"f1_score_weighted\", \"stepped\": false, \"type\": \"scatter\", \"data\": [0.8048405818640718, 0.8362873593808413, 0.613501877098201, 0.7748479365634214, 0.6765165571912032, 0.8369600340222694, 0.6050075251813414, 0.6553335407569197, 0.8079017268496397, 0.7864472845286626, 0.7590105399243665, 0.7878189334585626, 0.8312822541442765, 0.8322839842297307, 0.7951258562787789, 0.8021241741996721, 0.8361307082721505, 0.5491321514835512, 0.8515265356351492, 0.7984560269558112, 0.7616398833004221, 0.8281852322370051, 0.8114670731618845, 0.8276784088486441, 0.7879411312504262, 0.8392743893449242, 0.7977090270949501, 0.8341911168150652, 0.8260809008035491, 0.8214010081541478, 0.8376864473264715, 0.8354530671341469, 0.8340061317242524, 0.8061317032907913]}, {\"categories\": [\"0\", \"2\", \"4\", \"6\", \"9\", \"11\", \"13\", \"15\", \"17\", \"20\", \"22\", \"23\", \"25\", \"26\", \"27\", \"28\", \"29\", \"30\", \"31\", \"32\", \"33\", \"34\", \"35\", \"36\", \"37\", \"38\", \"39\", \"40\", \"41\", \"42\", \"43\", \"44\", \"45\", \"49\"], \"mode\": \"lines\", \"name\": \"f1_score_weighted_max\", \"stepped\": true, \"type\": \"scatter\", \"data\": [0.8048405818640718, 0.8362873593808413, 0.8362873593808413, 0.8362873593808413, 0.8362873593808413, 0.8369600340222694, 0.8369600340222694, 0.8369600340222694, 0.8369600340222694, 0.8369600340222694, 0.8369600340222694, 0.8369600340222694, 0.8369600340222694, 0.8369600340222694, 0.8369600340222694, 0.8369600340222694, 0.8369600340222694, 0.8369600340222694, 0.8515265356351492, 0.8515265356351492, 0.8515265356351492, 0.8515265356351492, 0.8515265356351492, 0.8515265356351492, 0.8515265356351492, 0.8515265356351492, 0.8515265356351492, 0.8515265356351492, 0.8515265356351492, 0.8515265356351492, 0.8515265356351492, 0.8515265356351492, 0.8515265356351492, 0.8515265356351492]}], \"precision_score_micro\": [{\"categories\": [\"0\", \"2\", \"4\", \"6\", \"9\", \"11\", \"13\", \"15\", \"17\", \"20\", \"22\", \"23\", \"25\", \"26\", \"27\", \"28\", \"29\", \"30\", \"31\", \"32\", \"33\", \"34\", \"35\", \"36\", \"37\", \"38\", \"39\", \"40\", \"41\", \"42\", \"43\", \"44\", \"45\", \"49\"], \"mode\": \"markers\", \"name\": \"precision_score_micro\", \"stepped\": false, \"type\": \"scatter\", \"data\": [0.8127069351230425, 0.8360402684563759, 0.638814317673378, 0.7691498881431768, 0.6955704697986578, 0.8359955257270693, 0.7023489932885906, 0.6990827740492169, 0.8160402684563759, 0.7892170022371365, 0.7659731543624161, 0.8026845637583893, 0.8360850111856823, 0.8360850111856823, 0.799261744966443, 0.8059507829977628, 0.839440715883669, 0.6789485458612976, 0.8561968680089486, 0.8026174496644295, 0.7826398210290828, 0.8327293064876957, 0.812662192393736, 0.8327069351230425, 0.7926398210290828, 0.8427740492170023, 0.8093064876957494, 0.8394854586129754, 0.8328187919463087, 0.8260402684563759, 0.8427740492170023, 0.8394854586129754, 0.8394630872483222, 0.8093064876957494]}, {\"categories\": [\"0\", \"2\", \"4\", \"6\", \"9\", \"11\", \"13\", \"15\", \"17\", \"20\", \"22\", \"23\", \"25\", \"26\", \"27\", \"28\", \"29\", \"30\", \"31\", \"32\", \"33\", \"34\", \"35\", \"36\", \"37\", \"38\", \"39\", \"40\", \"41\", \"42\", \"43\", \"44\", \"45\", \"49\"], \"mode\": \"lines\", \"name\": \"precision_score_micro_max\", \"stepped\": true, \"type\": \"scatter\", \"data\": [0.8127069351230425, 0.8360402684563759, 0.8360402684563759, 0.8360402684563759, 0.8360402684563759, 0.8360402684563759, 0.8360402684563759, 0.8360402684563759, 0.8360402684563759, 0.8360402684563759, 0.8360402684563759, 0.8360402684563759, 0.8360850111856823, 0.8360850111856823, 0.8360850111856823, 0.8360850111856823, 0.839440715883669, 0.839440715883669, 0.8561968680089486, 0.8561968680089486, 0.8561968680089486, 0.8561968680089486, 0.8561968680089486, 0.8561968680089486, 0.8561968680089486, 0.8561968680089486, 0.8561968680089486, 0.8561968680089486, 0.8561968680089486, 0.8561968680089486, 0.8561968680089486, 0.8561968680089486, 0.8561968680089486, 0.8561968680089486]}], \"average_precision_score_micro\": [{\"categories\": [\"0\", \"2\", \"4\", \"6\", \"9\", \"11\", \"13\", \"15\", \"17\", \"20\", \"22\", \"23\", \"25\", \"26\", \"27\", \"28\", \"29\", \"30\", \"31\", \"32\", \"33\", \"34\", \"35\", \"36\", \"37\", \"38\", \"39\", \"40\", \"41\", \"42\", \"43\", \"44\", \"45\", \"49\"], \"mode\": \"markers\", \"name\": \"average_precision_score_micro\", \"stepped\": false, \"type\": \"scatter\", \"data\": [0.8732278780361331, 0.8768423007430487, 0.652564882377572, 0.8393349246133952, 0.7802352506391417, 0.9103756007778914, 0.8130869246105205, 0.7542889769798915, 0.8744568326939235, 0.8652018529445242, 0.858340974584098, 0.8846416835580967, 0.9024202246301349, 0.8760188810410474, 0.8885365394674101, 0.8611036407332111, 0.8911659352024286, 0.6215283856082559, 0.9024798187455281, 0.8878146017357533, 0.8937187511118422, 0.9017788656137435, 0.8580444972348058, 0.9044937448886403, 0.8522006973694145, 0.8970081811923214, 0.8989301117236359, 0.8812127859115433, 0.8793710930572448, 0.8832783391787107, 0.8969080526343784, 0.9109571528268046, 0.9068016854792965, 0.8792655476195768]}, {\"categories\": [\"0\", \"2\", \"4\", \"6\", \"9\", \"11\", \"13\", \"15\", \"17\", \"20\", \"22\", \"23\", \"25\", \"26\", \"27\", \"28\", \"29\", \"30\", \"31\", \"32\", \"33\", \"34\", \"35\", \"36\", \"37\", \"38\", \"39\", \"40\", \"41\", \"42\", \"43\", \"44\", \"45\", \"49\"], \"mode\": \"lines\", \"name\": \"average_precision_score_micro_max\", \"stepped\": true, \"type\": \"scatter\", \"data\": [0.8732278780361331, 0.8768423007430487, 0.8768423007430487, 0.8768423007430487, 0.8768423007430487, 0.9103756007778914, 0.9103756007778914, 0.9103756007778914, 0.9103756007778914, 0.9103756007778914, 0.9103756007778914, 0.9103756007778914, 0.9103756007778914, 0.9103756007778914, 0.9103756007778914, 0.9103756007778914, 0.9103756007778914, 0.9103756007778914, 0.9103756007778914, 0.9103756007778914, 0.9103756007778914, 0.9103756007778914, 0.9103756007778914, 0.9103756007778914, 0.9103756007778914, 0.9103756007778914, 0.9103756007778914, 0.9103756007778914, 0.9103756007778914, 0.9103756007778914, 0.9103756007778914, 0.9109571528268046, 0.9109571528268046, 0.9109571528268046]}], \"recall_score_macro\": [{\"categories\": [\"0\", \"2\", \"4\", \"6\", \"9\", \"11\", \"13\", \"15\", \"17\", \"20\", \"22\", \"23\", \"25\", \"26\", \"27\", \"28\", \"29\", \"30\", \"31\", \"32\", \"33\", \"34\", \"35\", \"36\", \"37\", \"38\", \"39\", \"40\", \"41\", \"42\", \"43\", \"44\", \"45\", \"49\"], \"mode\": \"markers\", \"name\": \"recall_score_macro\", \"stepped\": false, \"type\": \"scatter\", \"data\": [0.7557586759161217, 0.8139355594776356, 0.5394917183220455, 0.7787727477761697, 0.6211454668237635, 0.8197204308308536, 0.5389924033653908, 0.5777772558359766, 0.7582339234408741, 0.7495917368421985, 0.7135390073450909, 0.7263773531321103, 0.7892803845785207, 0.7950167216665474, 0.7541007766072512, 0.7616537978157347, 0.8000944953502783, 0.5, 0.8126150396960976, 0.7563103817469689, 0.6953308919944636, 0.7868294041863638, 0.7923692754961685, 0.783985502774946, 0.7431240349520891, 0.8025697428750308, 0.7392567623215286, 0.7950337497543782, 0.7848296681217253, 0.7790350077254411, 0.7939652372429907, 0.8005287115899656, 0.7981675606834264, 0.7789283714328369]}, {\"categories\": [\"0\", \"2\", \"4\", \"6\", \"9\", \"11\", \"13\", \"15\", \"17\", \"20\", \"22\", \"23\", \"25\", \"26\", \"27\", \"28\", \"29\", \"30\", \"31\", \"32\", \"33\", \"34\", \"35\", \"36\", \"37\", \"38\", \"39\", \"40\", \"41\", \"42\", \"43\", \"44\", \"45\", \"49\"], \"mode\": \"lines\", \"name\": \"recall_score_macro_max\", \"stepped\": true, \"type\": \"scatter\", \"data\": [0.7557586759161217, 0.8139355594776356, 0.8139355594776356, 0.8139355594776356, 0.8139355594776356, 0.8197204308308536, 0.8197204308308536, 0.8197204308308536, 0.8197204308308536, 0.8197204308308536, 0.8197204308308536, 0.8197204308308536, 0.8197204308308536, 0.8197204308308536, 0.8197204308308536, 0.8197204308308536, 0.8197204308308536, 0.8197204308308536, 0.8197204308308536, 0.8197204308308536, 0.8197204308308536, 0.8197204308308536, 0.8197204308308536, 0.8197204308308536, 0.8197204308308536, 0.8197204308308536, 0.8197204308308536, 0.8197204308308536, 0.8197204308308536, 0.8197204308308536, 0.8197204308308536, 0.8197204308308536, 0.8197204308308536, 0.8197204308308536]}], \"f1_score_micro\": [{\"categories\": [\"0\", \"2\", \"4\", \"6\", \"9\", \"11\", \"13\", \"15\", \"17\", \"20\", \"22\", \"23\", \"25\", \"26\", \"27\", \"28\", \"29\", \"30\", \"31\", \"32\", \"33\", \"34\", \"35\", \"36\", \"37\", \"38\", \"39\", \"40\", \"41\", \"42\", \"43\", \"44\", \"45\", \"49\"], \"mode\": \"markers\", \"name\": \"f1_score_micro\", \"stepped\": false, \"type\": \"scatter\", \"data\": [0.8127069351230425, 0.8360402684563758, 0.638814317673378, 0.7691498881431768, 0.6955704697986578, 0.8359955257270693, 0.7023489932885906, 0.6990827740492169, 0.8160402684563759, 0.7892170022371365, 0.7659731543624161, 0.8026845637583893, 0.8360850111856823, 0.8360850111856823, 0.799261744966443, 0.8059507829977628, 0.839440715883669, 0.6789485458612976, 0.8561968680089487, 0.8026174496644294, 0.7826398210290828, 0.8327293064876957, 0.812662192393736, 0.8327069351230426, 0.7926398210290828, 0.8427740492170024, 0.8093064876957494, 0.8394854586129754, 0.8328187919463087, 0.8260402684563758, 0.8427740492170024, 0.8394854586129754, 0.8394630872483221, 0.8093064876957494]}, {\"categories\": [\"0\", \"2\", \"4\", \"6\", \"9\", \"11\", \"13\", \"15\", \"17\", \"20\", \"22\", \"23\", \"25\", \"26\", \"27\", \"28\", \"29\", \"30\", \"31\", \"32\", \"33\", \"34\", \"35\", \"36\", \"37\", \"38\", \"39\", \"40\", \"41\", \"42\", \"43\", \"44\", \"45\", \"49\"], \"mode\": \"lines\", \"name\": \"f1_score_micro_max\", \"stepped\": true, \"type\": \"scatter\", \"data\": [0.8127069351230425, 0.8360402684563758, 0.8360402684563758, 0.8360402684563758, 0.8360402684563758, 0.8360402684563758, 0.8360402684563758, 0.8360402684563758, 0.8360402684563758, 0.8360402684563758, 0.8360402684563758, 0.8360402684563758, 0.8360850111856823, 0.8360850111856823, 0.8360850111856823, 0.8360850111856823, 0.839440715883669, 0.839440715883669, 0.8561968680089487, 0.8561968680089487, 0.8561968680089487, 0.8561968680089487, 0.8561968680089487, 0.8561968680089487, 0.8561968680089487, 0.8561968680089487, 0.8561968680089487, 0.8561968680089487, 0.8561968680089487, 0.8561968680089487, 0.8561968680089487, 0.8561968680089487, 0.8561968680089487, 0.8561968680089487]}], \"average_precision_score_weighted\": [{\"categories\": [\"0\", \"2\", \"4\", \"6\", \"9\", \"11\", \"13\", \"15\", \"17\", \"20\", \"22\", \"23\", \"25\", \"26\", \"27\", \"28\", \"29\", \"30\", \"31\", \"32\", \"33\", \"34\", \"35\", \"36\", \"37\", \"38\", \"39\", \"40\", \"41\", \"42\", \"43\", \"44\", \"45\", \"49\"], \"mode\": \"markers\", \"name\": \"average_precision_score_weighted\", \"stepped\": false, \"type\": \"scatter\", \"data\": [0.8632247150712233, 0.8731173003964587, 0.6184273013534898, 0.8578844353878096, 0.7741259935250409, 0.915896142639367, 0.8113072637089094, 0.7201399341154796, 0.8635462487446603, 0.8618314989623015, 0.8426439717349876, 0.8832609970954293, 0.8968337562154012, 0.8683749664156353, 0.8824944193019838, 0.8534224262493383, 0.886552278070557, 0.5641082253552142, 0.9064988737877551, 0.8824811683472609, 0.8994911984809295, 0.8949787311615136, 0.8699561578466384, 0.8993327422698276, 0.8445323794111361, 0.8912959721536159, 0.9015046628015013, 0.8737868977151345, 0.8855174414093039, 0.8739472503106986, 0.8915961443225999, 0.9080962822107139, 0.9121568707143302, 0.904918535535416]}, {\"categories\": [\"0\", \"2\", \"4\", \"6\", \"9\", \"11\", \"13\", \"15\", \"17\", \"20\", \"22\", \"23\", \"25\", \"26\", \"27\", \"28\", \"29\", \"30\", \"31\", \"32\", \"33\", \"34\", \"35\", \"36\", \"37\", \"38\", \"39\", \"40\", \"41\", \"42\", \"43\", \"44\", \"45\", \"49\"], \"mode\": \"lines\", \"name\": \"average_precision_score_weighted_max\", \"stepped\": true, \"type\": \"scatter\", \"data\": [0.8632247150712233, 0.8731173003964587, 0.8731173003964587, 0.8731173003964587, 0.8731173003964587, 0.915896142639367, 0.915896142639367, 0.915896142639367, 0.915896142639367, 0.915896142639367, 0.915896142639367, 0.915896142639367, 0.915896142639367, 0.915896142639367, 0.915896142639367, 0.915896142639367, 0.915896142639367, 0.915896142639367, 0.915896142639367, 0.915896142639367, 0.915896142639367, 0.915896142639367, 0.915896142639367, 0.915896142639367, 0.915896142639367, 0.915896142639367, 0.915896142639367, 0.915896142639367, 0.915896142639367, 0.915896142639367, 0.915896142639367, 0.915896142639367, 0.915896142639367, 0.915896142639367]}], \"matthews_correlation\": [{\"categories\": [\"0\", \"2\", \"4\", \"6\", \"9\", \"11\", \"13\", \"15\", \"17\", \"20\", \"22\", \"23\", \"25\", \"26\", \"27\", \"28\", \"29\", \"30\", \"31\", \"32\", \"33\", \"34\", \"35\", \"36\", \"37\", \"38\", \"39\", \"40\", \"41\", \"42\", \"43\", \"44\", \"45\", \"49\"], \"mode\": \"markers\", \"name\": \"matthews_correlation\", \"stepped\": false, \"type\": \"scatter\", \"data\": [0.5565126394717403, 0.6309181800216048, 0.09016385371033075, 0.5314934343563918, 0.2798690711858806, 0.6426876475981522, 0.21584608260739901, 0.2195042404507554, 0.5657400808029058, 0.5182501066018845, 0.44545562780128367, 0.5277382627500039, 0.6165105009622744, 0.6211422339116293, 0.5349648974692435, 0.5494911726251028, 0.6270785228700766, 0.0, 0.6656930134607003, 0.5382595435531528, 0.47382354041675795, 0.6097637042687518, 0.5936601708599801, 0.6098159380193564, 0.5089077946885796, 0.6356948577159666, 0.5480606574556449, 0.6267704180599255, 0.6101948631503575, 0.5920490686152873, 0.6297788075427806, 0.6284079548466963, 0.6364637844387593, 0.5810240262885558]}, {\"categories\": [\"0\", \"2\", \"4\", \"6\", \"9\", \"11\", \"13\", \"15\", \"17\", \"20\", \"22\", \"23\", \"25\", \"26\", \"27\", \"28\", \"29\", \"30\", \"31\", \"32\", \"33\", \"34\", \"35\", \"36\", \"37\", \"38\", \"39\", \"40\", \"41\", \"42\", \"43\", \"44\", \"45\", \"49\"], \"mode\": \"lines\", \"name\": \"matthews_correlation_max\", \"stepped\": true, \"type\": \"scatter\", \"data\": [0.5565126394717403, 0.6309181800216048, 0.6309181800216048, 0.6309181800216048, 0.6309181800216048, 0.6426876475981522, 0.6426876475981522, 0.6426876475981522, 0.6426876475981522, 0.6426876475981522, 0.6426876475981522, 0.6426876475981522, 0.6426876475981522, 0.6426876475981522, 0.6426876475981522, 0.6426876475981522, 0.6426876475981522, 0.6426876475981522, 0.6656930134607003, 0.6656930134607003, 0.6656930134607003, 0.6656930134607003, 0.6656930134607003, 0.6656930134607003, 0.6656930134607003, 0.6656930134607003, 0.6656930134607003, 0.6656930134607003, 0.6656930134607003, 0.6656930134607003, 0.6656930134607003, 0.6656930134607003, 0.6656930134607003, 0.6656930134607003]}], \"log_loss\": [{\"categories\": [\"0\", \"2\", \"4\", \"6\", \"9\", \"11\", \"13\", \"15\", \"17\", \"20\", \"22\", \"23\", \"25\", \"26\", \"27\", \"28\", \"29\", \"30\", \"31\", \"32\", \"33\", \"34\", \"35\", \"36\", \"37\", \"38\", \"39\", \"40\", \"41\", \"42\", \"43\", \"44\", \"45\", \"49\"], \"mode\": \"markers\", \"name\": \"log_loss\", \"stepped\": false, \"type\": \"scatter\", \"data\": [0.5542394029789829, 0.5351976846182885, 1.800088680701795, 0.5396129106588345, 0.5888642587575885, 0.4690685200592821, 0.5378592369259664, 1.6508604484779834, 0.44648383816852466, 0.48639201129525345, 0.4632950667296186, 0.4435574516486483, 0.408801630993441, 0.7340717850814825, 0.4312254738657408, 0.4808378003410019, 0.4084143613304462, 0.6376243574675093, 0.4322127335480976, 0.430916332210596, 0.43879546283818904, 0.4088668929653476, 0.49460565158374825, 0.39739746791785235, 0.498817920333374, 0.5154828811155592, 0.5045450806234474, 0.41813237959003013, 0.449039884437893, 0.4329867536019383, 0.39935174561433406, 0.3949470639858452, 0.6726473663039177, 0.43343372769185945]}, {\"categories\": [\"0\", \"2\", \"4\", \"6\", \"9\", \"11\", \"13\", \"15\", \"17\", \"20\", \"22\", \"23\", \"25\", \"26\", \"27\", \"28\", \"29\", \"30\", \"31\", \"32\", \"33\", \"34\", \"35\", \"36\", \"37\", \"38\", \"39\", \"40\", \"41\", \"42\", \"43\", \"44\", \"45\", \"49\"], \"mode\": \"lines\", \"name\": \"log_loss_min\", \"stepped\": true, \"type\": \"scatter\", \"data\": [0.5542394029789829, 0.5351976846182885, 0.5351976846182885, 0.5351976846182885, 0.5351976846182885, 0.4690685200592821, 0.4690685200592821, 0.4690685200592821, 0.44648383816852466, 0.44648383816852466, 0.44648383816852466, 0.4435574516486483, 0.408801630993441, 0.408801630993441, 0.408801630993441, 0.408801630993441, 0.4084143613304462, 0.4084143613304462, 0.4084143613304462, 0.4084143613304462, 0.4084143613304462, 0.4084143613304462, 0.4084143613304462, 0.39739746791785235, 0.39739746791785235, 0.39739746791785235, 0.39739746791785235, 0.39739746791785235, 0.39739746791785235, 0.39739746791785235, 0.39739746791785235, 0.3949470639858452, 0.3949470639858452, 0.3949470639858452]}], \"average_precision_score_macro\": [{\"categories\": [\"0\", \"2\", \"4\", \"6\", \"9\", \"11\", \"13\", \"15\", \"17\", \"20\", \"22\", \"23\", \"25\", \"26\", \"27\", \"28\", \"29\", \"30\", \"31\", \"32\", \"33\", \"34\", \"35\", \"36\", \"37\", \"38\", \"39\", \"40\", \"41\", \"42\", \"43\", \"44\", \"45\", \"49\"], \"mode\": \"markers\", \"name\": \"average_precision_score_macro\", \"stepped\": false, \"type\": \"scatter\", \"data\": [0.8323789404548323, 0.8459176328048277, 0.5660408979981801, 0.8233240571660283, 0.7258998077720157, 0.895156129734295, 0.7705999403807953, 0.670697412035562, 0.8340866503227405, 0.8298389443145302, 0.802162590301396, 0.8558091532923242, 0.8692682872960389, 0.8427017913984494, 0.8580748501740102, 0.8279792413820869, 0.8645382299221004, 0.5, 0.8871090167181318, 0.8562004989448481, 0.8745877859055979, 0.86659376322336, 0.8416267718315035, 0.8733057479992534, 0.8193769316662316, 0.8687976402090573, 0.8761737864311774, 0.8483181162726321, 0.8625616475900133, 0.8466801069997714, 0.8677747494977828, 0.88694176580202, 0.89394146410057, 0.8842894340055352]}, {\"categories\": [\"0\", \"2\", \"4\", \"6\", \"9\", \"11\", \"13\", \"15\", \"17\", \"20\", \"22\", \"23\", \"25\", \"26\", \"27\", \"28\", \"29\", \"30\", \"31\", \"32\", \"33\", \"34\", \"35\", \"36\", \"37\", \"38\", \"39\", \"40\", \"41\", \"42\", \"43\", \"44\", \"45\", \"49\"], \"mode\": \"lines\", \"name\": \"average_precision_score_macro_max\", \"stepped\": true, \"type\": \"scatter\", \"data\": [0.8323789404548323, 0.8459176328048277, 0.8459176328048277, 0.8459176328048277, 0.8459176328048277, 0.895156129734295, 0.895156129734295, 0.895156129734295, 0.895156129734295, 0.895156129734295, 0.895156129734295, 0.895156129734295, 0.895156129734295, 0.895156129734295, 0.895156129734295, 0.895156129734295, 0.895156129734295, 0.895156129734295, 0.895156129734295, 0.895156129734295, 0.895156129734295, 0.895156129734295, 0.895156129734295, 0.895156129734295, 0.895156129734295, 0.895156129734295, 0.895156129734295, 0.895156129734295, 0.895156129734295, 0.895156129734295, 0.895156129734295, 0.895156129734295, 0.895156129734295, 0.895156129734295]}], \"AUC_micro\": [{\"categories\": [\"0\", \"2\", \"4\", \"6\", \"9\", \"11\", \"13\", \"15\", \"17\", \"20\", \"22\", \"23\", \"25\", \"26\", \"27\", \"28\", \"29\", \"30\", \"31\", \"32\", \"33\", \"34\", \"35\", \"36\", \"37\", \"38\", \"39\", \"40\", \"41\", \"42\", \"43\", \"44\", \"45\", \"49\"], \"mode\": \"markers\", \"name\": \"AUC_micro\", \"stepped\": false, \"type\": \"scatter\", \"data\": [0.8781833250754472, 0.8805777127156436, 0.6670657928321548, 0.8461609567136616, 0.7850463717850547, 0.9105881867183159, 0.8129977698702261, 0.7690470789604071, 0.8770957814713052, 0.8690564268876777, 0.8566638349623892, 0.8844155348357682, 0.9008508135269182, 0.8890608391013418, 0.8900468477395913, 0.8730986271889654, 0.8972368962359053, 0.6789485458612976, 0.9061440395577777, 0.8880579963865491, 0.8905727729982134, 0.9004799193229535, 0.8776603926750046, 0.9019250364097714, 0.8682295662357551, 0.9014258596960096, 0.8964579963865492, 0.8890649540310998, 0.8868090616538794, 0.8848947344714202, 0.8999940973629816, 0.913188634145609, 0.9138956303269623, 0.8872813416813057]}, {\"categories\": [\"0\", \"2\", \"4\", \"6\", \"9\", \"11\", \"13\", \"15\", \"17\", \"20\", \"22\", \"23\", \"25\", \"26\", \"27\", \"28\", \"29\", \"30\", \"31\", \"32\", \"33\", \"34\", \"35\", \"36\", \"37\", \"38\", \"39\", \"40\", \"41\", \"42\", \"43\", \"44\", \"45\", \"49\"], \"mode\": \"lines\", \"name\": \"AUC_micro_max\", \"stepped\": true, \"type\": \"scatter\", \"data\": [0.8781833250754472, 0.8805777127156436, 0.8805777127156436, 0.8805777127156436, 0.8805777127156436, 0.9105881867183159, 0.9105881867183159, 0.9105881867183159, 0.9105881867183159, 0.9105881867183159, 0.9105881867183159, 0.9105881867183159, 0.9105881867183159, 0.9105881867183159, 0.9105881867183159, 0.9105881867183159, 0.9105881867183159, 0.9105881867183159, 0.9105881867183159, 0.9105881867183159, 0.9105881867183159, 0.9105881867183159, 0.9105881867183159, 0.9105881867183159, 0.9105881867183159, 0.9105881867183159, 0.9105881867183159, 0.9105881867183159, 0.9105881867183159, 0.9105881867183159, 0.9105881867183159, 0.913188634145609, 0.9138956303269623, 0.9138956303269623]}], \"AUC_weighted\": [{\"categories\": [\"0\", \"2\", \"4\", \"6\", \"9\", \"11\", \"13\", \"15\", \"17\", \"20\", \"22\", \"23\", \"25\", \"26\", \"27\", \"28\", \"29\", \"30\", \"31\", \"32\", \"33\", \"34\", \"35\", \"36\", \"37\", \"38\", \"39\", \"40\", \"41\", \"42\", \"43\", \"44\", \"45\", \"49\"], \"mode\": \"markers\", \"name\": \"AUC_weighted\", \"stepped\": false, \"type\": \"scatter\", \"data\": [0.8565437129138573, 0.8643762539774704, 0.5367003131566508, 0.8477216249887358, 0.7561442630559702, 0.9089773680696209, 0.7984717164725592, 0.6913252556130942, 0.8516982103563987, 0.8493838445426622, 0.8374188520995085, 0.8730059655414697, 0.8912240059284722, 0.8652871618417748, 0.869368750238667, 0.8466582440855002, 0.8761899430090132, 0.5, 0.8998813555335763, 0.8707897104491681, 0.8893179559584525, 0.8907482521131478, 0.8728286342976204, 0.8912114034575278, 0.8365483121835211, 0.8822062731353366, 0.8935754731637757, 0.868013468290202, 0.8845204081211167, 0.8610872830278098, 0.8821788563750758, 0.9028695742042341, 0.9095017720591501, 0.8989881817483683]}, {\"categories\": [\"0\", \"2\", \"4\", \"6\", \"9\", \"11\", \"13\", \"15\", \"17\", \"20\", \"22\", \"23\", \"25\", \"26\", \"27\", \"28\", \"29\", \"30\", \"31\", \"32\", \"33\", \"34\", \"35\", \"36\", \"37\", \"38\", \"39\", \"40\", \"41\", \"42\", \"43\", \"44\", \"45\", \"49\"], \"mode\": \"lines\", \"name\": \"AUC_weighted_max\", \"stepped\": true, \"type\": \"scatter\", \"data\": [0.8565437129138573, 0.8643762539774704, 0.8643762539774704, 0.8643762539774704, 0.8643762539774704, 0.9089773680696209, 0.9089773680696209, 0.9089773680696209, 0.9089773680696209, 0.9089773680696209, 0.9089773680696209, 0.9089773680696209, 0.9089773680696209, 0.9089773680696209, 0.9089773680696209, 0.9089773680696209, 0.9089773680696209, 0.9089773680696209, 0.9089773680696209, 0.9089773680696209, 0.9089773680696209, 0.9089773680696209, 0.9089773680696209, 0.9089773680696209, 0.9089773680696209, 0.9089773680696209, 0.9089773680696209, 0.9089773680696209, 0.9089773680696209, 0.9089773680696209, 0.9089773680696209, 0.9089773680696209, 0.9095017720591501, 0.9095017720591501]}], \"recall_score_micro\": [{\"categories\": [\"0\", \"2\", \"4\", \"6\", \"9\", \"11\", \"13\", \"15\", \"17\", \"20\", \"22\", \"23\", \"25\", \"26\", \"27\", \"28\", \"29\", \"30\", \"31\", \"32\", \"33\", \"34\", \"35\", \"36\", \"37\", \"38\", \"39\", \"40\", \"41\", \"42\", \"43\", \"44\", \"45\", \"49\"], \"mode\": \"markers\", \"name\": \"recall_score_micro\", \"stepped\": false, \"type\": \"scatter\", \"data\": [0.8127069351230425, 0.8360402684563759, 0.638814317673378, 0.7691498881431768, 0.6955704697986578, 0.8359955257270693, 0.7023489932885906, 0.6990827740492169, 0.8160402684563759, 0.7892170022371365, 0.7659731543624161, 0.8026845637583893, 0.8360850111856823, 0.8360850111856823, 0.799261744966443, 0.8059507829977628, 0.839440715883669, 0.6789485458612976, 0.8561968680089486, 0.8026174496644295, 0.7826398210290828, 0.8327293064876957, 0.812662192393736, 0.8327069351230425, 0.7926398210290828, 0.8427740492170023, 0.8093064876957494, 0.8394854586129754, 0.8328187919463087, 0.8260402684563759, 0.8427740492170023, 0.8394854586129754, 0.8394630872483222, 0.8093064876957494]}, {\"categories\": [\"0\", \"2\", \"4\", \"6\", \"9\", \"11\", \"13\", \"15\", \"17\", \"20\", \"22\", \"23\", \"25\", \"26\", \"27\", \"28\", \"29\", \"30\", \"31\", \"32\", \"33\", \"34\", \"35\", \"36\", \"37\", \"38\", \"39\", \"40\", \"41\", \"42\", \"43\", \"44\", \"45\", \"49\"], \"mode\": \"lines\", \"name\": \"recall_score_micro_max\", \"stepped\": true, \"type\": \"scatter\", \"data\": [0.8127069351230425, 0.8360402684563759, 0.8360402684563759, 0.8360402684563759, 0.8360402684563759, 0.8360402684563759, 0.8360402684563759, 0.8360402684563759, 0.8360402684563759, 0.8360402684563759, 0.8360402684563759, 0.8360402684563759, 0.8360850111856823, 0.8360850111856823, 0.8360850111856823, 0.8360850111856823, 0.839440715883669, 0.839440715883669, 0.8561968680089486, 0.8561968680089486, 0.8561968680089486, 0.8561968680089486, 0.8561968680089486, 0.8561968680089486, 0.8561968680089486, 0.8561968680089486, 0.8561968680089486, 0.8561968680089486, 0.8561968680089486, 0.8561968680089486, 0.8561968680089486, 0.8561968680089486, 0.8561968680089486, 0.8561968680089486]}], \"recall_score_weighted\": [{\"categories\": [\"0\", \"2\", \"4\", \"6\", \"9\", \"11\", \"13\", \"15\", \"17\", \"20\", \"22\", \"23\", \"25\", \"26\", \"27\", \"28\", \"29\", \"30\", \"31\", \"32\", \"33\", \"34\", \"35\", \"36\", \"37\", \"38\", \"39\", \"40\", \"41\", \"42\", \"43\", \"44\", \"45\", \"49\"], \"mode\": \"markers\", \"name\": \"recall_score_weighted\", \"stepped\": false, \"type\": \"scatter\", \"data\": [0.8127069351230425, 0.8360402684563759, 0.638814317673378, 0.7691498881431768, 0.6955704697986578, 0.8359955257270693, 0.7023489932885906, 0.6990827740492169, 0.8160402684563759, 0.7892170022371365, 0.7659731543624161, 0.8026845637583893, 0.8360850111856823, 0.8360850111856823, 0.799261744966443, 0.8059507829977628, 0.839440715883669, 0.6789485458612976, 0.8561968680089486, 0.8026174496644295, 0.7826398210290828, 0.8327293064876957, 0.812662192393736, 0.8327069351230425, 0.7926398210290828, 0.8427740492170023, 0.8093064876957494, 0.8394854586129754, 0.8328187919463087, 0.8260402684563759, 0.8427740492170023, 0.8394854586129754, 0.8394630872483222, 0.8093064876957494]}, {\"categories\": [\"0\", \"2\", \"4\", \"6\", \"9\", \"11\", \"13\", \"15\", \"17\", \"20\", \"22\", \"23\", \"25\", \"26\", \"27\", \"28\", \"29\", \"30\", \"31\", \"32\", \"33\", \"34\", \"35\", \"36\", \"37\", \"38\", \"39\", \"40\", \"41\", \"42\", \"43\", \"44\", \"45\", \"49\"], \"mode\": \"lines\", \"name\": \"recall_score_weighted_max\", \"stepped\": true, \"type\": \"scatter\", \"data\": [0.8127069351230425, 0.8360402684563759, 0.8360402684563759, 0.8360402684563759, 0.8360402684563759, 0.8360402684563759, 0.8360402684563759, 0.8360402684563759, 0.8360402684563759, 0.8360402684563759, 0.8360402684563759, 0.8360402684563759, 0.8360850111856823, 0.8360850111856823, 0.8360850111856823, 0.8360850111856823, 0.839440715883669, 0.839440715883669, 0.8561968680089486, 0.8561968680089486, 0.8561968680089486, 0.8561968680089486, 0.8561968680089486, 0.8561968680089486, 0.8561968680089486, 0.8561968680089486, 0.8561968680089486, 0.8561968680089486, 0.8561968680089486, 0.8561968680089486, 0.8561968680089486, 0.8561968680089486, 0.8561968680089486, 0.8561968680089486]}], \"norm_macro_recall\": [{\"categories\": [\"0\", \"2\", \"4\", \"6\", \"9\", \"11\", \"13\", \"15\", \"17\", \"20\", \"22\", \"23\", \"25\", \"26\", \"27\", \"28\", \"29\", \"30\", \"31\", \"32\", \"33\", \"34\", \"35\", \"36\", \"37\", \"38\", \"39\", \"40\", \"41\", \"42\", \"43\", \"44\", \"45\", \"49\"], \"mode\": \"markers\", \"name\": \"norm_macro_recall\", \"stepped\": false, \"type\": \"scatter\", \"data\": [0.5115173518322433, 0.6278711189552713, 0.07898343664409091, 0.5575454955523393, 0.24229093364752685, 0.6394408616617071, 0.07798480673078156, 0.15555451167195333, 0.5164678468817483, 0.49918347368439697, 0.4270780146901819, 0.45275470626422054, 0.5785607691570414, 0.5900334433330948, 0.5082015532145024, 0.5233075956314693, 0.6001889907005566, 0.0, 0.6252300793921951, 0.5126207634939377, 0.39066178398892726, 0.5736588083727276, 0.5847385509923371, 0.5679710055498922, 0.48624806990417824, 0.6051394857500616, 0.4785135246430572, 0.5900674995087565, 0.5696593362434504, 0.5580700154508823, 0.5879304744859815, 0.6010574231799313, 0.596335121366853, 0.5578567428656738]}, {\"categories\": [\"0\", \"2\", \"4\", \"6\", \"9\", \"11\", \"13\", \"15\", \"17\", \"20\", \"22\", \"23\", \"25\", \"26\", \"27\", \"28\", \"29\", \"30\", \"31\", \"32\", \"33\", \"34\", \"35\", \"36\", \"37\", \"38\", \"39\", \"40\", \"41\", \"42\", \"43\", \"44\", \"45\", \"49\"], \"mode\": \"lines\", \"name\": \"norm_macro_recall_max\", \"stepped\": true, \"type\": \"scatter\", \"data\": [0.5115173518322433, 0.6278711189552713, 0.6278711189552713, 0.6278711189552713, 0.6278711189552713, 0.6394408616617071, 0.6394408616617071, 0.6394408616617071, 0.6394408616617071, 0.6394408616617071, 0.6394408616617071, 0.6394408616617071, 0.6394408616617071, 0.6394408616617071, 0.6394408616617071, 0.6394408616617071, 0.6394408616617071, 0.6394408616617071, 0.6394408616617071, 0.6394408616617071, 0.6394408616617071, 0.6394408616617071, 0.6394408616617071, 0.6394408616617071, 0.6394408616617071, 0.6394408616617071, 0.6394408616617071, 0.6394408616617071, 0.6394408616617071, 0.6394408616617071, 0.6394408616617071, 0.6394408616617071, 0.6394408616617071, 0.6394408616617071]}], \"precision_score_macro\": [{\"categories\": [\"0\", \"2\", \"4\", \"6\", \"9\", \"11\", \"13\", \"15\", \"17\", \"20\", \"22\", \"23\", \"25\", \"26\", \"27\", \"28\", \"29\", \"30\", \"31\", \"32\", \"33\", \"34\", \"35\", \"36\", \"37\", \"38\", \"39\", \"40\", \"41\", \"42\", \"43\", \"44\", \"45\", \"49\"], \"mode\": \"markers\", \"name\": \"precision_score_macro\", \"stepped\": false, \"type\": \"scatter\", \"data\": [0.8038548007066774, 0.817511999426893, 0.551547479291075, 0.7534866167988464, 0.667457553978245, 0.8240406110283159, 0.8066019786910198, 0.6557931286549707, 0.8112467090829312, 0.7702834986015764, 0.7331130045053187, 0.8092522123893806, 0.8293194466115359, 0.8282113880034773, 0.7827449443727335, 0.789429902395741, 0.8283927899368884, 0.3394742729306488, 0.8556275814612666, 0.7832071705128487, 0.7902056373611124, 0.8250072029947333, 0.8034997611084568, 0.8283945221445221, 0.766358427398147, 0.8348868330155996, 0.8152875275789268, 0.8345307518039939, 0.8290222772277227, 0.8147014519297128, 0.8377275981501906, 0.8298793205892597, 0.8431118582539776, 0.8057930068579156]}, {\"categories\": [\"0\", \"2\", \"4\", \"6\", \"9\", \"11\", \"13\", \"15\", \"17\", \"20\", \"22\", \"23\", \"25\", \"26\", \"27\", \"28\", \"29\", \"30\", \"31\", \"32\", \"33\", \"34\", \"35\", \"36\", \"37\", \"38\", \"39\", \"40\", \"41\", \"42\", \"43\", \"44\", \"45\", \"49\"], \"mode\": \"lines\", \"name\": \"precision_score_macro_max\", \"stepped\": true, \"type\": \"scatter\", \"data\": [0.8038548007066774, 0.817511999426893, 0.817511999426893, 0.817511999426893, 0.817511999426893, 0.8240406110283159, 0.8240406110283159, 0.8240406110283159, 0.8240406110283159, 0.8240406110283159, 0.8240406110283159, 0.8240406110283159, 0.8293194466115359, 0.8293194466115359, 0.8293194466115359, 0.8293194466115359, 0.8293194466115359, 0.8293194466115359, 0.8556275814612666, 0.8556275814612666, 0.8556275814612666, 0.8556275814612666, 0.8556275814612666, 0.8556275814612666, 0.8556275814612666, 0.8556275814612666, 0.8556275814612666, 0.8556275814612666, 0.8556275814612666, 0.8556275814612666, 0.8556275814612666, 0.8556275814612666, 0.8556275814612666, 0.8556275814612666]}], \"balanced_accuracy\": [{\"categories\": [\"0\", \"2\", \"4\", \"6\", \"9\", \"11\", \"13\", \"15\", \"17\", \"20\", \"22\", \"23\", \"25\", \"26\", \"27\", \"28\", \"29\", \"30\", \"31\", \"32\", \"33\", \"34\", \"35\", \"36\", \"37\", \"38\", \"39\", \"40\", \"41\", \"42\", \"43\", \"44\", \"45\", \"49\"], \"mode\": \"markers\", \"name\": \"balanced_accuracy\", \"stepped\": false, \"type\": \"scatter\", \"data\": [0.7557586759161217, 0.8139355594776356, 0.5394917183220455, 0.7787727477761697, 0.6211454668237635, 0.8197204308308536, 0.5389924033653908, 0.5777772558359766, 0.7582339234408741, 0.7495917368421985, 0.7135390073450909, 0.7263773531321103, 0.7892803845785207, 0.7950167216665474, 0.7541007766072512, 0.7616537978157347, 0.8000944953502783, 0.5, 0.8126150396960976, 0.7563103817469689, 0.6953308919944636, 0.7868294041863638, 0.7923692754961685, 0.783985502774946, 0.7431240349520891, 0.8025697428750308, 0.7392567623215286, 0.7950337497543782, 0.7848296681217253, 0.7790350077254411, 0.7939652372429907, 0.8005287115899656, 0.7981675606834264, 0.7789283714328369]}, {\"categories\": [\"0\", \"2\", \"4\", \"6\", \"9\", \"11\", \"13\", \"15\", \"17\", \"20\", \"22\", \"23\", \"25\", \"26\", \"27\", \"28\", \"29\", \"30\", \"31\", \"32\", \"33\", \"34\", \"35\", \"36\", \"37\", \"38\", \"39\", \"40\", \"41\", \"42\", \"43\", \"44\", \"45\", \"49\"], \"mode\": \"lines\", \"name\": \"balanced_accuracy_max\", \"stepped\": true, \"type\": \"scatter\", \"data\": [0.7557586759161217, 0.8139355594776356, 0.8139355594776356, 0.8139355594776356, 0.8139355594776356, 0.8197204308308536, 0.8197204308308536, 0.8197204308308536, 0.8197204308308536, 0.8197204308308536, 0.8197204308308536, 0.8197204308308536, 0.8197204308308536, 0.8197204308308536, 0.8197204308308536, 0.8197204308308536, 0.8197204308308536, 0.8197204308308536, 0.8197204308308536, 0.8197204308308536, 0.8197204308308536, 0.8197204308308536, 0.8197204308308536, 0.8197204308308536, 0.8197204308308536, 0.8197204308308536, 0.8197204308308536, 0.8197204308308536, 0.8197204308308536, 0.8197204308308536, 0.8197204308308536, 0.8197204308308536, 0.8197204308308536, 0.8197204308308536]}], \"f1_score_macro\": [{\"categories\": [\"0\", \"2\", \"4\", \"6\", \"9\", \"11\", \"13\", \"15\", \"17\", \"20\", \"22\", \"23\", \"25\", \"26\", \"27\", \"28\", \"29\", \"30\", \"31\", \"32\", \"33\", \"34\", \"35\", \"36\", \"37\", \"38\", \"39\", \"40\", \"41\", \"42\", \"43\", \"44\", \"45\", \"49\"], \"mode\": \"markers\", \"name\": \"f1_score_macro\", \"stepped\": false, \"type\": \"scatter\", \"data\": [0.7692501942501943, 0.812846338388134, 0.5351292238557777, 0.7528797268470349, 0.61685974477484, 0.815199236486943, 0.4851813393979293, 0.5719115891376583, 0.7725823516683531, 0.7532093522381003, 0.717842957635992, 0.7443924801177645, 0.8020196237424346, 0.804338644558615, 0.761472385500615, 0.7695891612970821, 0.8090311041058469, 0.4043824701195219, 0.8256361024693408, 0.7648708172036751, 0.7102216087723334, 0.7987177212841474, 0.785239588667008, 0.7976299324241166, 0.7520314990963897, 0.8124831955367346, 0.7578943799536123, 0.8054492544452683, 0.795162536657794, 0.7907261117476398, 0.8089318212396273, 0.8080116361731573, 0.8057468657468657, 0.7770983370180617]}, {\"categories\": [\"0\", \"2\", \"4\", \"6\", \"9\", \"11\", \"13\", \"15\", \"17\", \"20\", \"22\", \"23\", \"25\", \"26\", \"27\", \"28\", \"29\", \"30\", \"31\", \"32\", \"33\", \"34\", \"35\", \"36\", \"37\", \"38\", \"39\", \"40\", \"41\", \"42\", \"43\", \"44\", \"45\", \"49\"], \"mode\": \"lines\", \"name\": \"f1_score_macro_max\", \"stepped\": true, \"type\": \"scatter\", \"data\": [0.7692501942501943, 0.812846338388134, 0.812846338388134, 0.812846338388134, 0.812846338388134, 0.815199236486943, 0.815199236486943, 0.815199236486943, 0.815199236486943, 0.815199236486943, 0.815199236486943, 0.815199236486943, 0.815199236486943, 0.815199236486943, 0.815199236486943, 0.815199236486943, 0.815199236486943, 0.815199236486943, 0.8256361024693408, 0.8256361024693408, 0.8256361024693408, 0.8256361024693408, 0.8256361024693408, 0.8256361024693408, 0.8256361024693408, 0.8256361024693408, 0.8256361024693408, 0.8256361024693408, 0.8256361024693408, 0.8256361024693408, 0.8256361024693408, 0.8256361024693408, 0.8256361024693408, 0.8256361024693408]}]}, \"metricName\": null, \"primaryMetricName\": \"accuracy\", \"showLegend\": false}, \"run_metrics\": [{\"name\": \"experiment_status\", \"run_id\": \"AutoML_6a6a1e12-6da0-4973-93fc-74bf858a4609\", \"categories\": [0, 1, 2, 3, 4, 5, 6, 7, 8, 9, 10, 11, 12, 13], \"series\": [{\"data\": [\"DatasetEvaluation\", \"FeaturesGeneration\", \"DatasetFeaturization\", \"DatasetFeaturizationCompleted\", \"DatasetCrossValidationSplit\", \"ModelSelection\", \"BestRunExplainModel\", \"ModelExplanationDataSetSetup\", \"PickSurrogateModel\", \"EngineeredFeatureExplanations\", \"EngineeredFeatureExplanations\", \"RawFeaturesExplanations\", \"RawFeaturesExplanations\", \"BestRunExplainModel\"]}]}, {\"name\": \"experiment_status_description\", \"run_id\": \"AutoML_6a6a1e12-6da0-4973-93fc-74bf858a4609\", \"categories\": [0, 1, 2, 3, 4, 5, 6, 7, 8, 9, 10, 11, 12, 13], \"series\": [{\"data\": [\"Gathering dataset statistics.\", \"Generating features for the dataset.\", \"Beginning to fit featurizers and featurize the dataset.\", \"Completed fit featurizers and featurizing the dataset.\", \"Generating individually featurized CV splits.\", \"Beginning model selection.\", \"Best run model explanations started\", \"Model explanations data setup completed\", \"Choosing LightGBM as the surrogate model for explanations\", \"Computation of engineered features started\", \"Computation of engineered features completed\", \"Computation of raw features started\", \"Computation of raw features completed\", \"Best run model explanations completed\"]}]}, {\"name\": \"AUC_micro\", \"run_id\": \"AutoML_6a6a1e12-6da0-4973-93fc-74bf858a4609\", \"categories\": [0], \"series\": [{\"data\": [0.9101584062779955]}]}, {\"name\": \"precision_score_macro\", \"run_id\": \"AutoML_6a6a1e12-6da0-4973-93fc-74bf858a4609\", \"categories\": [0], \"series\": [{\"data\": [0.853197651739741]}]}, {\"name\": \"norm_macro_recall\", \"run_id\": \"AutoML_6a6a1e12-6da0-4973-93fc-74bf858a4609\", \"categories\": [0], \"series\": [{\"data\": [0.6251815451270039]}]}, {\"name\": \"precision_score_micro\", \"run_id\": \"AutoML_6a6a1e12-6da0-4973-93fc-74bf858a4609\", \"categories\": [0], \"series\": [{\"data\": [0.8562192393736018]}]}, {\"name\": \"f1_score_micro\", \"run_id\": \"AutoML_6a6a1e12-6da0-4973-93fc-74bf858a4609\", \"categories\": [0], \"series\": [{\"data\": [0.8562192393736018]}]}, {\"name\": \"precision_score_weighted\", \"run_id\": \"AutoML_6a6a1e12-6da0-4973-93fc-74bf858a4609\", \"categories\": [0], \"series\": [{\"data\": [0.8578941203348339]}]}, {\"name\": \"recall_score_weighted\", \"run_id\": \"AutoML_6a6a1e12-6da0-4973-93fc-74bf858a4609\", \"categories\": [0], \"series\": [{\"data\": [0.8562192393736018]}]}, {\"name\": \"average_precision_score_macro\", \"run_id\": \"AutoML_6a6a1e12-6da0-4973-93fc-74bf858a4609\", \"categories\": [0], \"series\": [{\"data\": [0.8831261522703814]}]}, {\"name\": \"balanced_accuracy\", \"run_id\": \"AutoML_6a6a1e12-6da0-4973-93fc-74bf858a4609\", \"categories\": [0], \"series\": [{\"data\": [0.812590772563502]}]}, {\"name\": \"recall_score_micro\", \"run_id\": \"AutoML_6a6a1e12-6da0-4973-93fc-74bf858a4609\", \"categories\": [0], \"series\": [{\"data\": [0.8562192393736018]}]}, {\"name\": \"average_precision_score_weighted\", \"run_id\": \"AutoML_6a6a1e12-6da0-4973-93fc-74bf858a4609\", \"categories\": [0], \"series\": [{\"data\": [0.9048137088143138]}]}, {\"name\": \"f1_score_weighted\", \"run_id\": \"AutoML_6a6a1e12-6da0-4973-93fc-74bf858a4609\", \"categories\": [0], \"series\": [{\"data\": [0.8515375936668004]}]}, {\"name\": \"recall_score_macro\", \"run_id\": \"AutoML_6a6a1e12-6da0-4973-93fc-74bf858a4609\", \"categories\": [0], \"series\": [{\"data\": [0.812590772563502]}]}, {\"name\": \"log_loss\", \"run_id\": \"AutoML_6a6a1e12-6da0-4973-93fc-74bf858a4609\", \"categories\": [0], \"series\": [{\"data\": [0.39232972823397916]}]}, {\"name\": \"matthews_correlation\", \"run_id\": \"AutoML_6a6a1e12-6da0-4973-93fc-74bf858a4609\", \"categories\": [0], \"series\": [{\"data\": [0.6636956776991876]}]}, {\"name\": \"accuracy\", \"run_id\": \"AutoML_6a6a1e12-6da0-4973-93fc-74bf858a4609\", \"categories\": [0], \"series\": [{\"data\": [0.8562192393736018]}]}, {\"name\": \"f1_score_macro\", \"run_id\": \"AutoML_6a6a1e12-6da0-4973-93fc-74bf858a4609\", \"categories\": [0], \"series\": [{\"data\": [0.8256055249665798]}]}, {\"name\": \"average_precision_score_micro\", \"run_id\": \"AutoML_6a6a1e12-6da0-4973-93fc-74bf858a4609\", \"categories\": [0], \"series\": [{\"data\": [0.9079934592326853]}]}, {\"name\": \"AUC_weighted\", \"run_id\": \"AutoML_6a6a1e12-6da0-4973-93fc-74bf858a4609\", \"categories\": [0], \"series\": [{\"data\": [0.8972312329186993]}]}, {\"name\": \"weighted_accuracy\", \"run_id\": \"AutoML_6a6a1e12-6da0-4973-93fc-74bf858a4609\", \"categories\": [0], \"series\": [{\"data\": [0.8901464643136598]}]}, {\"name\": \"AUC_macro\", \"run_id\": \"AutoML_6a6a1e12-6da0-4973-93fc-74bf858a4609\", \"categories\": [0], \"series\": [{\"data\": [0.8972312329186993]}]}], \"run_logs\": \"\\nRun is completed.\", \"graph\": {}, \"widget_settings\": {\"childWidgetDisplay\": \"popup\", \"send_telemetry\": false, \"log_level\": \"INFO\", \"sdk_version\": \"1.38.0\"}, \"loading\": false}"
          },
          "metadata": {}
        }
      ],
      "execution_count": 8,
      "metadata": {
        "gather": {
          "logged": 1647085812581
        },
        "jupyter": {
          "outputs_hidden": false,
          "source_hidden": false
        },
        "nteract": {
          "transient": {
            "deleting": false
          }
        }
      }
    },
    {
      "cell_type": "code",
      "source": [
        "remote_run.wait_for_completion()"
      ],
      "outputs": [
        {
          "output_type": "execute_result",
          "execution_count": 9,
          "data": {
            "text/plain": "{'runId': 'AutoML_6a6a1e12-6da0-4973-93fc-74bf858a4609',\n 'target': 'automl-compute',\n 'status': 'Completed',\n 'startTimeUtc': '2022-03-12T11:50:25.451169Z',\n 'endTimeUtc': '2022-03-12T12:15:18.520847Z',\n 'services': {},\n 'warnings': [{'source': 'JasmineService',\n   'message': 'No scores improved over last 20 iterations, so experiment stopped early. This early stopping behavior can be disabled by setting enable_early_stopping = False in AutoMLConfig for notebook/python SDK runs.'}],\n 'properties': {'num_iterations': '1000',\n  'training_type': 'TrainFull',\n  'acquisition_function': 'EI',\n  'primary_metric': 'accuracy',\n  'train_split': '0',\n  'acquisition_parameter': '0',\n  'num_cross_validation': '2',\n  'target': 'automl-compute',\n  'AMLSettingsJsonString': '{\"path\":null,\"name\":\"heart-automl\",\"subscription_id\":\"cdbe0b43-92a0-4715-838a-f2648cc7ad21\",\"resource_group\":\"aml-quickstarts-188689\",\"workspace_name\":\"quick-starts-ws-188689\",\"region\":\"southcentralus\",\"compute_target\":\"automl-compute\",\"spark_service\":null,\"azure_service\":\"remote\",\"many_models\":false,\"pipeline_fetch_max_batch_size\":1,\"enable_batch_run\":true,\"enable_run_restructure\":false,\"start_auxiliary_runs_before_parent_complete\":false,\"enable_code_generation\":false,\"iterations\":1000,\"primary_metric\":\"accuracy\",\"task_type\":\"classification\",\"positive_label\":null,\"data_script\":null,\"test_size\":0.0,\"test_include_predictions_only\":false,\"validation_size\":0.0,\"n_cross_validations\":2,\"y_min\":null,\"y_max\":null,\"num_classes\":null,\"featurization\":\"auto\",\"_ignore_package_version_incompatibilities\":false,\"is_timeseries\":false,\"max_cores_per_iteration\":1,\"max_concurrent_iterations\":4,\"iteration_timeout_minutes\":null,\"mem_in_mb\":null,\"enforce_time_on_windows\":false,\"experiment_timeout_minutes\":20,\"experiment_exit_score\":null,\"whitelist_models\":null,\"blacklist_algos\":[\"TensorFlowLinearClassifier\",\"TensorFlowDNN\"],\"supported_models\":[\"LightGBM\",\"AveragedPerceptronClassifier\",\"TensorFlowDNN\",\"TensorFlowLinearClassifier\",\"ExtremeRandomTrees\",\"DecisionTree\",\"TabnetClassifier\",\"KNN\",\"GradientBoosting\",\"SVM\",\"SGD\",\"MultinomialNaiveBayes\",\"BernoulliNaiveBayes\",\"RandomForest\",\"XGBoostClassifier\",\"LinearSVM\",\"LogisticRegression\"],\"private_models\":[],\"auto_blacklist\":true,\"blacklist_samples_reached\":false,\"exclude_nan_labels\":true,\"verbosity\":20,\"_debug_log\":\"azureml_automl.log\",\"show_warnings\":false,\"model_explainability\":true,\"service_url\":null,\"sdk_url\":null,\"sdk_packages\":null,\"enable_onnx_compatible_models\":false,\"enable_split_onnx_featurizer_estimator_models\":false,\"vm_type\":\"STANDARD_D2_V2\",\"telemetry_verbosity\":20,\"send_telemetry\":true,\"enable_dnn\":false,\"scenario\":\"SDK-1.13.0\",\"environment_label\":null,\"save_mlflow\":false,\"enable_categorical_indicators\":false,\"force_text_dnn\":false,\"enable_feature_sweeping\":true,\"enable_early_stopping\":true,\"early_stopping_n_iters\":10,\"arguments\":null,\"dataset_id\":null,\"hyperdrive_config\":null,\"validation_dataset_id\":null,\"run_source\":null,\"metrics\":null,\"enable_metric_confidence\":false,\"enable_ensembling\":true,\"enable_stack_ensembling\":true,\"ensemble_iterations\":15,\"enable_tf\":false,\"enable_subsampling\":null,\"subsample_seed\":null,\"enable_nimbusml\":false,\"enable_streaming\":false,\"force_streaming\":false,\"track_child_runs\":true,\"allowed_private_models\":[],\"label_column_name\":\"DEATH_EVENT\",\"weight_column_name\":null,\"cv_split_column_names\":null,\"enable_local_managed\":false,\"_local_managed_run_id\":null,\"cost_mode\":1,\"lag_length\":0,\"metric_operation\":\"maximize\",\"preprocess\":true}',\n  'DataPrepJsonString': '{\\\\\"training_data\\\\\": {\\\\\"datasetId\\\\\": \\\\\"c3918a3d-320f-4303-aea8-d281fbf164aa\\\\\"}, \\\\\"datasets\\\\\": 0}',\n  'EnableSubsampling': None,\n  'runTemplate': 'AutoML',\n  'azureml.runsource': 'automl',\n  'display_task_type': 'classification',\n  'dependencies_versions': '{\"azureml-widgets\": \"1.38.0\", \"azureml-train\": \"1.38.0\", \"azureml-train-restclients-hyperdrive\": \"1.38.0\", \"azureml-train-core\": \"1.38.0\", \"azureml-train-automl\": \"1.38.0\", \"azureml-train-automl-runtime\": \"1.38.0\", \"azureml-train-automl-client\": \"1.38.0\", \"azureml-tensorboard\": \"1.38.0\", \"azureml-telemetry\": \"1.38.0\", \"azureml-sdk\": \"1.38.0\", \"azureml-responsibleai\": \"1.38.0\", \"azureml-pipeline\": \"1.38.0\", \"azureml-pipeline-steps\": \"1.38.0\", \"azureml-pipeline-core\": \"1.38.0\", \"azureml-opendatasets\": \"1.38.0\", \"azureml-mlflow\": \"1.38.0\", \"azureml-interpret\": \"1.38.0\", \"azureml-inference-server-http\": \"0.4.2\", \"azureml-explain-model\": \"1.38.0\", \"azureml-defaults\": \"1.38.0\", \"azureml-dataset-runtime\": \"1.38.0\", \"azureml-dataprep\": \"2.26.0\", \"azureml-dataprep-rslex\": \"2.2.0\", \"azureml-dataprep-native\": \"38.0.0\", \"azureml-datadrift\": \"1.38.0\", \"azureml-core\": \"1.38.0\", \"azureml-contrib-services\": \"1.38.0\", \"azureml-contrib-server\": \"1.38.0\", \"azureml-contrib-reinforcementlearning\": \"1.38.0\", \"azureml-contrib-pipeline-steps\": \"1.38.0\", \"azureml-contrib-notebook\": \"1.38.0\", \"azureml-contrib-fairness\": \"1.38.0\", \"azureml-contrib-dataset\": \"1.38.0\", \"azureml-contrib-automl-pipeline-steps\": \"1.38.0\", \"azureml-cli-common\": \"1.38.0\", \"azureml-automl-runtime\": \"1.38.0\", \"azureml-automl-dnn-nlp\": \"1.38.0\", \"azureml-automl-core\": \"1.38.0\", \"azureml-accel-models\": \"1.38.0\"}',\n  '_aml_system_scenario_identification': 'Remote.Parent',\n  'ClientType': 'SDK',\n  'environment_cpu_name': 'AzureML-AutoML',\n  'environment_cpu_label': 'py36',\n  'environment_gpu_name': 'AzureML-AutoML-GPU',\n  'environment_gpu_label': 'py36',\n  'root_attribution': 'automl',\n  'attribution': 'AutoML',\n  'Orchestrator': 'AutoML',\n  'CancelUri': 'https://southcentralus.api.azureml.ms/jasmine/v1.0/subscriptions/cdbe0b43-92a0-4715-838a-f2648cc7ad21/resourceGroups/aml-quickstarts-188689/providers/Microsoft.MachineLearningServices/workspaces/quick-starts-ws-188689/experimentids/afb44f86-aed8-4ffb-a596-3e1cddd7faa0/cancel/AutoML_6a6a1e12-6da0-4973-93fc-74bf858a4609',\n  'ClientSdkVersion': '1.38.0',\n  'snapshotId': '00000000-0000-0000-0000-000000000000',\n  'SetupRunId': 'AutoML_6a6a1e12-6da0-4973-93fc-74bf858a4609_setup',\n  'SetupRunContainerId': 'dcid.AutoML_6a6a1e12-6da0-4973-93fc-74bf858a4609_setup',\n  'FeaturizationRunJsonPath': 'featurizer_container.json',\n  'FeaturizationRunId': 'AutoML_6a6a1e12-6da0-4973-93fc-74bf858a4609_featurize',\n  'ProblemInfoJsonString': '{\"dataset_num_categorical\": 0, \"is_sparse\": false, \"subsampling\": false, \"has_extra_col\": true, \"dataset_classes\": 2, \"dataset_features\": 12, \"dataset_samples\": 299, \"single_frequency_class_detected\": false}',\n  'ModelExplainRunId': 'AutoML_6a6a1e12-6da0-4973-93fc-74bf858a4609_ModelExplain'},\n 'inputDatasets': [{'dataset': {'id': 'c3918a3d-320f-4303-aea8-d281fbf164aa'}, 'consumptionDetails': {'type': 'RunInput', 'inputName': 'training_data', 'mechanism': 'Direct'}}],\n 'outputDatasets': [],\n 'logFiles': {},\n 'submittedBy': 'ODL_User 188689'}"
          },
          "metadata": {}
        }
      ],
      "execution_count": 9,
      "metadata": {
        "gather": {
          "logged": 1647087324301
        },
        "jupyter": {
          "outputs_hidden": false,
          "source_hidden": false
        },
        "nteract": {
          "transient": {
            "deleting": false
          }
        }
      }
    },
    {
      "cell_type": "markdown",
      "source": [
        "## Best Model\n",
        "\n",
        "TODO: In the cell below, get the best model from the automl experiments and display all the properties of the model.\n",
        "\n"
      ],
      "metadata": {}
    },
    {
      "cell_type": "code",
      "source": [
        "best_run, fitted_model = remote_run.get_output()\n",
        "print(best_run)\n",
        "print(fitted_model)"
      ],
      "outputs": [
        {
          "output_type": "stream",
          "name": "stdout",
          "text": "Run(Experiment: heart-automl,\nId: AutoML_6a6a1e12-6da0-4973-93fc-74bf858a4609_48,\nType: azureml.scriptrun,\nStatus: Completed)\nPipeline(memory=None,\n         steps=[('datatransformer',\n                 DataTransformer(enable_dnn=False, enable_feature_sweeping=True, feature_sweeping_config={}, feature_sweeping_timeout=86400, featurization_config=None, force_text_dnn=False, is_cross_validation=True, is_onnx_compatible=False, observer=None, task='classification', working_dir='/mnt/batch/tasks/shared/LS_root/mount...\n), random_state=0, reg_alpha=1.5625, reg_lambda=0.8333333333333334, subsample=0.7, tree_method='auto'))], verbose=False)), ('27', Pipeline(memory=None, steps=[('sparsenormalizer', Normalizer(copy=True, norm='l2')), ('xgboostclassifier', XGBoostClassifier(booster='gbtree', colsample_bytree=1, eta=0.3, gamma=0, max_depth=7, max_leaves=0, n_estimators=400, n_jobs=1, objective='reg:logistic', problem_info=ProblemInfo(\n    gpu_training_param_dict={'processing_unit_type': 'cpu'}\n), random_state=0, reg_alpha=2.5, reg_lambda=0.625, subsample=0.7, tree_method='auto'))], verbose=False))], flatten_transform=None, weights=[0.1111111111111111, 0.1111111111111111, 0.1111111111111111, 0.2222222222222222, 0.2222222222222222, 0.1111111111111111, 0.1111111111111111]))],\n         verbose=False)\n"
        }
      ],
      "execution_count": 11,
      "metadata": {
        "gather": {
          "logged": 1647087826521
        },
        "jupyter": {
          "outputs_hidden": false,
          "source_hidden": false
        },
        "nteract": {
          "transient": {
            "deleting": false
          }
        }
      }
    },
    {
      "cell_type": "code",
      "source": [
        "print(\"Best run metrics :\",best_run.get_metrics())"
      ],
      "outputs": [
        {
          "output_type": "stream",
          "name": "stdout",
          "text": "Best run metrics : {'f1_score_macro': 0.8256055249665798, 'AUC_macro': 0.8972312329186993, 'f1_score_weighted': 0.8515375936668004, 'AUC_micro': 0.9101584062779955, 'accuracy': 0.8562192393736018, 'matthews_correlation': 0.6636956776991876, 'recall_score_weighted': 0.8562192393736018, 'f1_score_micro': 0.8562192393736018, 'precision_score_weighted': 0.8578941203348339, 'precision_score_micro': 0.8562192393736018, 'norm_macro_recall': 0.6251815451270039, 'average_precision_score_micro': 0.9079934592326853, 'AUC_weighted': 0.8972312329186993, 'weighted_accuracy': 0.8901464643136598, 'recall_score_macro': 0.812590772563502, 'average_precision_score_weighted': 0.9048137088143138, 'log_loss': 0.39232972823397916, 'balanced_accuracy': 0.812590772563502, 'recall_score_micro': 0.8562192393736018, 'average_precision_score_macro': 0.8831261522703814, 'precision_score_macro': 0.853197651739741, 'confusion_matrix': 'aml://artifactId/ExperimentRun/dcid.AutoML_6a6a1e12-6da0-4973-93fc-74bf858a4609_48/confusion_matrix', 'accuracy_table': 'aml://artifactId/ExperimentRun/dcid.AutoML_6a6a1e12-6da0-4973-93fc-74bf858a4609_48/accuracy_table'}\n"
        }
      ],
      "execution_count": 12,
      "metadata": {
        "gather": {
          "logged": 1647088197995
        },
        "jupyter": {
          "outputs_hidden": false,
          "source_hidden": false
        },
        "nteract": {
          "transient": {
            "deleting": false
          }
        }
      }
    },
    {
      "cell_type": "code",
      "source": [
        "#TODO: Save the best model\n",
        "best_run.register_model(model_name = \"best_run_automl.pkl\", model_path = './')\n",
        "print(best_run)"
      ],
      "outputs": [
        {
          "output_type": "stream",
          "name": "stdout",
          "text": "Run(Experiment: heart-automl,\nId: AutoML_6a6a1e12-6da0-4973-93fc-74bf858a4609_48,\nType: azureml.scriptrun,\nStatus: Completed)\n"
        }
      ],
      "execution_count": 14,
      "metadata": {
        "gather": {
          "logged": 1647088337150
        },
        "jupyter": {
          "outputs_hidden": false,
          "source_hidden": false
        },
        "nteract": {
          "transient": {
            "deleting": false
          }
        }
      }
    },
    {
      "cell_type": "code",
      "source": [
        "best_run.get_file_names()\r\n",
        "\r\n",
        "# Download the yaml file that includes the environment dependencies\r\n",
        "best_run.download_file('outputs/conda_env_v_1_0_0.yml', 'env.yml')"
      ],
      "outputs": [],
      "execution_count": 27,
      "metadata": {
        "jupyter": {
          "source_hidden": false,
          "outputs_hidden": false
        },
        "nteract": {
          "transient": {
            "deleting": false
          }
        },
        "gather": {
          "logged": 1647090785913
        }
      }
    },
    {
      "cell_type": "markdown",
      "source": [
        "## Model Deployment\n",
        "\n",
        "Remember you have to deploy only one of the two models you trained but you still need to register both the models. Perform the steps in the rest of this notebook only if you wish to deploy this model.\n",
        "\n",
        "TODO: In the cell below, register the model, create an inference config and deploy the model as a web service."
      ],
      "metadata": {}
    },
    {
      "cell_type": "code",
      "source": [
        "from azureml.core.environment import Environment \r\n",
        "from azureml.core.model import InferenceConfig \r\n",
        "from azureml.core.webservice import AciWebservice, Webservice\r\n",
        "from azureml.core.model import Model\r\n",
        "\r\n",
        "model = remote_run.register_model(model_name = 'best_run_automl.pkl')\r\n",
        "print(remote_run.model_id)\r\n",
        "\r\n",
        "# https://knowledge.udacity.com/questions/463620\r\n",
        "\r\n",
        "environment = best_run.get_environment()\r\n",
        "entry_script='inference/scoring.py'\r\n",
        "best_run.download_file('outputs/scoring_file_v_1_0_0.py', entry_script)\r\n",
        "\r\n",
        "\r\n",
        "inference_config = InferenceConfig(entry_script = entry_script, environment = environment)\r\n",
        "\r\n",
        "# Deploying the model via ACI WebService\r\n",
        "# https://github.com/MicrosoftDocs/azure-docs/blob/master/articles/machine-learning/how-to-deploy-azure-container-instance.md\r\n",
        "\r\n",
        "deployment_config = AciWebservice.deploy_configuration(cpu_cores = 1, \r\n",
        "                                                    memory_gb = 1, \r\n",
        "                                                    auth_enabled= True, \r\n",
        "                                                    enable_app_insights= True)\r\n",
        "\r\n",
        "service = Model.deploy(ws, \"heartfailure\", [model], inference_config, deployment_config)\r\n",
        "service.wait_for_deployment(show_output = True)"
      ],
      "outputs": [
        {
          "output_type": "stream",
          "name": "stdout",
          "text": "best_run_automl.pkl\nTips: You can try get_logs(): https://aka.ms/debugimage#dockerlog or local deployment: https://aka.ms/debugimage#debug-locally to debug if deployment takes longer than 10 minutes.\nRunning\n2022-03-12 12:50:28+00:00 Creating Container Registry if not exists.\n2022-03-12 12:50:28+00:00 Registering the environment.\n2022-03-12 12:50:29+00:00 Use the existing image.\n2022-03-12 12:50:29+00:00 Generating deployment configuration.\n2022-03-12 12:50:30+00:00 Submitting deployment to compute.\n2022-03-12 12:50:33+00:00 Checking the status of deployment heartfailure..\n2022-03-12 12:53:22+00:00 Checking the status of inference endpoint heartfailure.\nSucceeded\nACI service creation operation finished, operation \"Succeeded\"\n"
        }
      ],
      "execution_count": 17,
      "metadata": {
        "gather": {
          "logged": 1647089604083
        },
        "jupyter": {
          "outputs_hidden": false,
          "source_hidden": false
        },
        "nteract": {
          "transient": {
            "deleting": false
          }
        }
      }
    },
    {
      "cell_type": "markdown",
      "source": [
        "TODO: In the cell below, send a request to the web service you deployed to test it."
      ],
      "metadata": {
        "collapsed": true,
        "gather": {
          "logged": 1598431657736
        },
        "jupyter": {
          "outputs_hidden": false,
          "source_hidden": false
        },
        "nteract": {
          "transient": {
            "deleting": false
          }
        }
      }
    },
    {
      "cell_type": "code",
      "source": [
        "# Authentication is enabled, so I use the get_keys method to retrieve the primary and secondary authentication keys:\r\n",
        "primary, secondary = service.get_keys()\r\n",
        "\r\n",
        "print('Service state: ' + service.state)\r\n",
        "print('Service scoring URI: ' + service.scoring_uri)\r\n",
        "print('Service Swagger URI: ' + service.swagger_uri)\r\n",
        "print('Service primary authentication key: ' + primary)"
      ],
      "outputs": [
        {
          "output_type": "stream",
          "name": "stdout",
          "text": "Service state: Healthy\nService scoring URI: http://003d3859-a205-4e86-b82b-3ecf7e405f21.southcentralus.azurecontainer.io/score\nService Swagger URI: http://003d3859-a205-4e86-b82b-3ecf7e405f21.southcentralus.azurecontainer.io/swagger.json\nService primary authentication key: FC31sRBImFyamhrh3VcbUU1FvBcKVMwa\n"
        }
      ],
      "execution_count": 18,
      "metadata": {
        "gather": {
          "logged": 1647089627795
        },
        "jupyter": {
          "outputs_hidden": false,
          "source_hidden": false
        },
        "nteract": {
          "transient": {
            "deleting": false
          }
        }
      }
    },
    {
      "cell_type": "markdown",
      "source": [
        "TODO: In the cell below, print the logs of the web service and delete the service"
      ],
      "metadata": {
        "collapsed": true,
        "gather": {
          "logged": 1598432765711
        },
        "jupyter": {
          "outputs_hidden": false,
          "source_hidden": false
        },
        "nteract": {
          "transient": {
            "deleting": false
          }
        }
      }
    },
    {
      "cell_type": "code",
      "source": [
        "%run endpoint.py"
      ],
      "outputs": [
        {
          "output_type": "stream",
          "name": "stdout",
          "text": "{\"result\": [1, 1]}\n++++++++++++++++++++++++++++++\nExpected result: [true, true], where 'true' means '1' as result in the 'DEATH_EVENT' column\n"
        }
      ],
      "execution_count": 24,
      "metadata": {
        "jupyter": {
          "outputs_hidden": false,
          "source_hidden": false
        },
        "nteract": {
          "transient": {
            "deleting": false
          }
        }
      }
    },
    {
      "cell_type": "code",
      "source": [
        "print(service.get_logs())"
      ],
      "outputs": [
        {
          "output_type": "stream",
          "name": "stdout",
          "text": "2022-03-12T12:52:59,899765000+00:00 - gunicorn/run \nDynamic Python package installation is disabled.\nStarting HTTP server\n2022-03-12T12:52:59,910019000+00:00 - iot-server/run \n2022-03-12T12:52:59,909176900+00:00 - rsyslog/run \n2022-03-12T12:52:59,954964000+00:00 - nginx/run \nrsyslogd: /azureml-envs/azureml_6797cf9b513e59b405ce80f3e9222a7d/lib/libuuid.so.1: no version information available (required by rsyslogd)\nEdgeHubConnectionString and IOTEDGE_IOTHUBHOSTNAME are not set. Exiting...\n2022-03-12T12:53:00,401603000+00:00 - iot-server/finish 1 0\n2022-03-12T12:53:00,408962300+00:00 - Exit code 1 is normal. Not restarting iot-server.\nStarting gunicorn 20.1.0\nListening at: http://127.0.0.1:31311 (73)\nUsing worker: sync\nworker timeout is set to 300\nBooting worker with pid: 100\nSPARK_HOME not set. Skipping PySpark Initialization.\nGenerating new fontManager, this may take some time...\nInitializing logger\n2022-03-12 12:53:03,935 | root | INFO | Starting up app insights client\nlogging socket was found. logging is available.\nlogging socket was found. logging is available.\n2022-03-12 12:53:03,940 | root | INFO | Starting up request id generator\n2022-03-12 12:53:03,940 | root | INFO | Starting up app insight hooks\n2022-03-12 12:53:03,940 | root | INFO | Invoking user's init function\n2022-03-12 12:53:11,605 | root | INFO | Users's init has completed successfully\n2022-03-12 12:53:11,625 | root | INFO | Skipping middleware: dbg_model_info as it's not enabled.\n2022-03-12 12:53:11,625 | root | INFO | Skipping middleware: dbg_resource_usage as it's not enabled.\nGenerating swagger file: /tmp/tmppgut2t96\n2022-03-12 12:53:11,627 | root | INFO | Scoring timeout is found from os.environ: 60000 ms\n2022-03-12 12:53:22,871 | root | INFO | 200\n127.0.0.1 - - [12/Mar/2022:12:53:22 +0000] \"GET /swagger.json HTTP/1.0\" 200 3078 \"-\" \"Go-http-client/1.1\"\n2022-03-12 12:53:23,846 | root | INFO | 200\n127.0.0.1 - - [12/Mar/2022:12:53:23 +0000] \"GET /swagger.json HTTP/1.0\" 200 3078 \"-\" \"Go-http-client/1.1\"\n2022-03-12 12:53:34,845 | root | INFO | 200\n127.0.0.1 - - [12/Mar/2022:12:53:34 +0000] \"GET /swagger.json HTTP/1.0\" 200 3078 \"-\" \"Go-http-client/1.1\"\n2022-03-12 12:54:08,360 | root | INFO | 200\n127.0.0.1 - - [12/Mar/2022:12:54:08 +0000] \"GET /swagger.json HTTP/1.0\" 200 3078 \"-\" \"Go-http-client/1.1\"\n2022-03-12 12:55:24,457 | root | INFO | Validation Request Content-Type\n2022-03-12 12:55:24,458 | root | INFO | Scoring Timer is set to 60.0 seconds\n2022-03-12 12:55:24,765 | root | INFO | 200\n127.0.0.1 - - [12/Mar/2022:12:55:24 +0000] \"POST /score HTTP/1.0\" 200 22 \"-\" \"python-requests/2.27.1\"\n2022-03-12 12:55:54,869 | root | INFO | Validation Request Content-Type\n2022-03-12 12:55:54,869 | root | INFO | Scoring Timer is set to 60.0 seconds\n2022-03-12 12:55:55,179 | root | INFO | 200\n127.0.0.1 - - [12/Mar/2022:12:55:55 +0000] \"POST /score HTTP/1.0\" 200 22 \"-\" \"python-requests/2.27.1\"\n2022-03-12 12:57:23,544 | root | INFO | Validation Request Content-Type\n2022-03-12 12:57:23,545 | root | INFO | Scoring Timer is set to 60.0 seconds\n2022-03-12 12:57:23,848 | root | INFO | 200\n127.0.0.1 - - [12/Mar/2022:12:57:23 +0000] \"POST /score HTTP/1.0\" 200 22 \"-\" \"python-requests/2.27.1\"\n2022-03-12 12:57:32,973 | root | INFO | Validation Request Content-Type\n2022-03-12 12:57:32,974 | root | INFO | Scoring Timer is set to 60.0 seconds\n2022-03-12 12:57:33,263 | root | INFO | 200\n127.0.0.1 - - [12/Mar/2022:12:57:33 +0000] \"POST /score HTTP/1.0\" 200 22 \"-\" \"python-requests/2.27.1\"\n2022-03-12 12:59:03,942 | root | INFO | Validation Request Content-Type\n2022-03-12 12:59:03,946 | root | INFO | Scoring Timer is set to 60.0 seconds\n2022-03-12 12:59:04,243 | root | INFO | 200\n127.0.0.1 - - [12/Mar/2022:12:59:04 +0000] \"POST /score HTTP/1.0\" 200 22 \"-\" \"python-requests/2.27.1\"\n2022-03-12 13:00:12,197 | root | INFO | Validation Request Content-Type\n2022-03-12 13:00:12,198 | root | INFO | Scoring Timer is set to 60.0 seconds\n2022-03-12 13:00:12,486 | root | INFO | 200\n127.0.0.1 - - [12/Mar/2022:13:00:12 +0000] \"POST /score HTTP/1.0\" 200 22 \"-\" \"python-requests/2.27.1\"\n\n"
        }
      ],
      "execution_count": 25,
      "metadata": {
        "jupyter": {
          "source_hidden": false,
          "outputs_hidden": false
        },
        "nteract": {
          "transient": {
            "deleting": false
          }
        },
        "gather": {
          "logged": 1647090029310
        }
      }
    },
    {
      "cell_type": "markdown",
      "source": [
        "## Deleting the service\r\n",
        "Putting the deletion of the service in a separate cell to avoid accidentally running the cell before finishing the tasks"
      ],
      "metadata": {
        "nteract": {
          "transient": {
            "deleting": false
          }
        }
      }
    },
    {
      "cell_type": "code",
      "source": [
        "service.delete()"
      ],
      "outputs": [],
      "execution_count": 28,
      "metadata": {
        "jupyter": {
          "source_hidden": false,
          "outputs_hidden": false
        },
        "nteract": {
          "transient": {
            "deleting": false
          }
        },
        "gather": {
          "logged": 1647093293811
        }
      }
    },
    {
      "cell_type": "markdown",
      "source": [
        "**Submission Checklist**\n",
        "- I have registered the model.\n",
        "- I have deployed the model with the best accuracy as a webservice.\n",
        "- I have tested the webservice by sending a request to the model endpoint.\n",
        "- I have deleted the webservice and shutdown all the computes that I have used.\n",
        "- I have taken a screenshot showing the model endpoint as active.\n",
        "- The project includes a file containing the environment details.\n"
      ],
      "metadata": {}
    },
    {
      "cell_type": "markdown",
      "source": [],
      "metadata": {}
    }
  ],
  "metadata": {
    "kernel_info": {
      "name": "python3-azureml"
    },
    "kernelspec": {
      "name": "python3-azureml",
      "language": "python",
      "display_name": "Python 3.6 - AzureML"
    },
    "language_info": {
      "name": "python",
      "version": "3.6.9",
      "mimetype": "text/x-python",
      "codemirror_mode": {
        "name": "ipython",
        "version": 3
      },
      "pygments_lexer": "ipython3",
      "nbconvert_exporter": "python",
      "file_extension": ".py"
    },
    "microsoft": {
      "host": {
        "AzureML": {
          "notebookHasBeenCompleted": true
        }
      }
    },
    "nteract": {
      "version": "nteract-front-end@1.0.0"
    }
  },
  "nbformat": 4,
  "nbformat_minor": 2
}